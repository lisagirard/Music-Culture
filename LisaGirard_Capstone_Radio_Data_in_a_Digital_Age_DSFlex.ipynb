{
  "nbformat": 4,
  "nbformat_minor": 0,
  "metadata": {
    "colab": {
      "provenance": [],
      "mount_file_id": "1sjB5VYui3sY2tprQepIQ_VLBuB0gYSOK",
      "authorship_tag": "ABX9TyMX9zwi92eR6ezrpdBMWkqk",
      "include_colab_link": true
    },
    "kernelspec": {
      "name": "python3",
      "display_name": "Python 3"
    },
    "language_info": {
      "name": "python"
    }
  },
  "cells": [
    {
      "cell_type": "markdown",
      "metadata": {
        "id": "view-in-github",
        "colab_type": "text"
      },
      "source": [
        "<a href=\"https://colab.research.google.com/github/lisagirard/Music-Culture/blob/main/LisaGirard_Capstone_Radio_Data_in_a_Digital_Age_DSFlex.ipynb\" target=\"_parent\"><img src=\"https://colab.research.google.com/assets/colab-badge.svg\" alt=\"Open In Colab\"/></a>"
      ]
    },
    {
      "cell_type": "markdown",
      "source": [
        "Lisa Girard <br>\n",
        "Data Science Flex - Thinkful <br>\n",
        "Capstone #1.2 - 8.16.22<br>\n",
        "\n",
        "**Tracking Charting History on the Billboard Hot 100 Data Set**"
      ],
      "metadata": {
        "id": "yQuNaewykPVT"
      }
    },
    {
      "cell_type": "markdown",
      "source": [
        "The Billboard Hot 100 is one of Billboard Magazine’s definitive music charts and is powered by Luminate, the entertainment industry data powerhouse. The week’s most popular songs are ranked by audio and video streaming activity on leading digital music services, radio airplay audience impressions based on monitored airplay, and sales data. A publicly-available dataset of all \"Hot 100\" charts released since its inception in 1958 through November 6, 2021 can be found online at https://www.kaggle.com/datasets/dhruvildave/billboard-the-hot-100-songs"
      ],
      "metadata": {
        "id": "WdyMsMMnkSaM"
      }
    },
    {
      "cell_type": "markdown",
      "source": [
        "**RESEARCH PROPOSAL:**<hr>\n",
        "\n",
        "When looking at past and current trends in the data set, I noted that power gold hits released prior to 1999 did not chart as long as hits in the “digital age” - post 1999. I propose to do an A/B test to compare chart time - known as “weeks-on-board” -  of songs released from 1976-1998 (A) to chart time of songs released after 1999 (B),  the year digital music proliferation began, so that stakeholders can make data-driven decisions regarding content distribution, marketing, and audience development. \n"
      ],
      "metadata": {
        "id": "g1tUndGPETvP"
      }
    },
    {
      "cell_type": "markdown",
      "source": [
        "**METHODS:**<hr>\n",
        "I will segment the data to include two time frames:\n",
        "* 1976-1998 - 22 years of chart history prior to the 1999 milestone of the advent of digital file sharing (A)\n",
        "* 1999-2021 - 22 years of chart history (B) <br><Br>\n",
        "I will test each time-frame dataset (A/B) for sample size, normal distribution, skew and kurtosis, histogram plotting, two-tailed t-test to determine hypothesis rejection, and confidence interval determination.\n"
      ],
      "metadata": {
        "id": "lD5MGVmvET60"
      }
    },
    {
      "cell_type": "markdown",
      "source": [
        "**HYPOTHESES:** <hr>\n",
        "H0 - Songs charted from 1976-1998 did not have significantly different chart times than songs released after 1999. <br>\n",
        "H1 -  Songs charted from 1999-2021 did have significantly different chart times (longer) than songs released between 1976-1998. \n",
        "\n",
        "\n"
      ],
      "metadata": {
        "id": "lTE4EESEEUDM"
      }
    },
    {
      "cell_type": "markdown",
      "source": [
        "**WHY:** <hr>\n",
        "The biggest stakeholders, or audience, in the music industry that consumes and consults the data output from Billboard Magazine’s charts are: \n",
        "* Record labels\n",
        "* Artists\n",
        "* Streaming services (subscription monetization / ad sales)\n",
        "* Traditional broadcast radio stations (ad sales model)\n",
        "* Satellite radio stations (subscription monetization)\n",
        "\n",
        "Ultimately, these stakeholders are seeking **return on investment** and **potential for additional monetization**. Examining the past charting history helps to understand why current charting trends and future charting potential matter in context of what and how artists and distribution channels can be better monetized and managed. \n",
        "<br><Br>\n",
        "Knowing current charting trends can drive decisions regarding radio clock programming, tour scheduling, album/song releases, artistic creative output, merchandise support, advertising sales (for both online streaming and traditional broadcast radio), and for audience development in both traditional broadcast radio and subscription-driven distribution (online streaming platforms like Spotify and Sirius XM Satellite Radio.) \n",
        "\n",
        "Research Proposal Google Doc at: https://docs.google.com/document/d/1dbOgAfoE25N4wGUV8RfK_WG-iEnprlDQvaUjSueINP8/edit?usp=sharing\n"
      ],
      "metadata": {
        "id": "J0FACs_7EUK5"
      }
    },
    {
      "cell_type": "markdown",
      "source": [
        "## DATA ANALYSIS"
      ],
      "metadata": {
        "id": "cP0NWxOYuyNh"
      }
    },
    {
      "cell_type": "code",
      "execution_count": null,
      "metadata": {
        "id": "kqJGgBxnH06q"
      },
      "outputs": [],
      "source": [
        "import pandas as pd\n",
        "import numpy as np\n",
        "import matplotlib.pyplot as plt\n",
        "%matplotlib inline\n",
        "import statistics\n",
        "from collections import Counter\n",
        "from numpy.random import seed\n",
        "#pd.options.display.max_rows = 999\n",
        "pd.options.display.max_rows = 500\n",
        "import seaborn as sns \n",
        "sns.set()\n",
        "from scipy import stats\n",
        "from scipy.stats import pearsonr\n",
        "from numpy import mean\n",
        "from numpy import var\n",
        "from math import sqrt\n",
        "import math\n",
        "import statsmodels.api as sm\n",
        "\n",
        "\n",
        "#collect the entire dataframe\n",
        "billboard_df = pd.read_csv(\"/content/drive/MyDrive/Colab Notebooks/billboard_charts.csv\")"
      ]
    },
    {
      "cell_type": "code",
      "source": [
        "#get an idea of the DF datatypes and counts\n",
        "billboard_df.info()"
      ],
      "metadata": {
        "colab": {
          "base_uri": "https://localhost:8080/"
        },
        "id": "povRcMvbFnuX",
        "outputId": "846a0257-90da-4e76-ec6d-bd78147fdc31"
      },
      "execution_count": null,
      "outputs": [
        {
          "output_type": "stream",
          "name": "stdout",
          "text": [
            "<class 'pandas.core.frame.DataFrame'>\n",
            "RangeIndex: 330087 entries, 0 to 330086\n",
            "Data columns (total 7 columns):\n",
            " #   Column          Non-Null Count   Dtype  \n",
            "---  ------          --------------   -----  \n",
            " 0   date            330087 non-null  object \n",
            " 1   rank            330087 non-null  int64  \n",
            " 2   song            330087 non-null  object \n",
            " 3   artist          330087 non-null  object \n",
            " 4   last-week       297775 non-null  float64\n",
            " 5   peak-rank       330087 non-null  int64  \n",
            " 6   weeks-on-board  330087 non-null  int64  \n",
            "dtypes: float64(1), int64(3), object(3)\n",
            "memory usage: 17.6+ MB\n"
          ]
        }
      ]
    },
    {
      "cell_type": "code",
      "source": [
        "#check for nulls\n",
        "billboard_df.isnull().sum()"
      ],
      "metadata": {
        "colab": {
          "base_uri": "https://localhost:8080/"
        },
        "id": "TW6kXt_eFW3-",
        "outputId": "fba196e0-6a07-4b0e-d56c-1c5b1d6b1ffa"
      },
      "execution_count": null,
      "outputs": [
        {
          "output_type": "execute_result",
          "data": {
            "text/plain": [
              "date                  0\n",
              "rank                  0\n",
              "song                  0\n",
              "artist                0\n",
              "last-week         32312\n",
              "peak-rank             0\n",
              "weeks-on-board        0\n",
              "dtype: int64"
            ]
          },
          "metadata": {},
          "execution_count": 354
        }
      ]
    },
    {
      "cell_type": "code",
      "source": [
        "billboard_df.head()"
      ],
      "metadata": {
        "colab": {
          "base_uri": "https://localhost:8080/",
          "height": 206
        },
        "id": "SAHJ_l6QFvNP",
        "outputId": "f2fda6c6-36d8-4023-f2ff-bb7aa01e80c1"
      },
      "execution_count": null,
      "outputs": [
        {
          "output_type": "execute_result",
          "data": {
            "text/plain": [
              "         date  rank           song                         artist  last-week  \\\n",
              "0  2021-11-06     1     Easy On Me                          Adele        1.0   \n",
              "1  2021-11-06     2           Stay  The Kid LAROI & Justin Bieber        2.0   \n",
              "2  2021-11-06     3  Industry Baby        Lil Nas X & Jack Harlow        3.0   \n",
              "3  2021-11-06     4     Fancy Like                   Walker Hayes        4.0   \n",
              "4  2021-11-06     5     Bad Habits                     Ed Sheeran        5.0   \n",
              "\n",
              "   peak-rank  weeks-on-board  \n",
              "0          1               3  \n",
              "1          1              16  \n",
              "2          1              14  \n",
              "3          3              19  \n",
              "4          2              18  "
            ],
            "text/html": [
              "\n",
              "  <div id=\"df-c36b98d1-fb3e-48b7-a24c-058d462db1ef\">\n",
              "    <div class=\"colab-df-container\">\n",
              "      <div>\n",
              "<style scoped>\n",
              "    .dataframe tbody tr th:only-of-type {\n",
              "        vertical-align: middle;\n",
              "    }\n",
              "\n",
              "    .dataframe tbody tr th {\n",
              "        vertical-align: top;\n",
              "    }\n",
              "\n",
              "    .dataframe thead th {\n",
              "        text-align: right;\n",
              "    }\n",
              "</style>\n",
              "<table border=\"1\" class=\"dataframe\">\n",
              "  <thead>\n",
              "    <tr style=\"text-align: right;\">\n",
              "      <th></th>\n",
              "      <th>date</th>\n",
              "      <th>rank</th>\n",
              "      <th>song</th>\n",
              "      <th>artist</th>\n",
              "      <th>last-week</th>\n",
              "      <th>peak-rank</th>\n",
              "      <th>weeks-on-board</th>\n",
              "    </tr>\n",
              "  </thead>\n",
              "  <tbody>\n",
              "    <tr>\n",
              "      <th>0</th>\n",
              "      <td>2021-11-06</td>\n",
              "      <td>1</td>\n",
              "      <td>Easy On Me</td>\n",
              "      <td>Adele</td>\n",
              "      <td>1.0</td>\n",
              "      <td>1</td>\n",
              "      <td>3</td>\n",
              "    </tr>\n",
              "    <tr>\n",
              "      <th>1</th>\n",
              "      <td>2021-11-06</td>\n",
              "      <td>2</td>\n",
              "      <td>Stay</td>\n",
              "      <td>The Kid LAROI &amp; Justin Bieber</td>\n",
              "      <td>2.0</td>\n",
              "      <td>1</td>\n",
              "      <td>16</td>\n",
              "    </tr>\n",
              "    <tr>\n",
              "      <th>2</th>\n",
              "      <td>2021-11-06</td>\n",
              "      <td>3</td>\n",
              "      <td>Industry Baby</td>\n",
              "      <td>Lil Nas X &amp; Jack Harlow</td>\n",
              "      <td>3.0</td>\n",
              "      <td>1</td>\n",
              "      <td>14</td>\n",
              "    </tr>\n",
              "    <tr>\n",
              "      <th>3</th>\n",
              "      <td>2021-11-06</td>\n",
              "      <td>4</td>\n",
              "      <td>Fancy Like</td>\n",
              "      <td>Walker Hayes</td>\n",
              "      <td>4.0</td>\n",
              "      <td>3</td>\n",
              "      <td>19</td>\n",
              "    </tr>\n",
              "    <tr>\n",
              "      <th>4</th>\n",
              "      <td>2021-11-06</td>\n",
              "      <td>5</td>\n",
              "      <td>Bad Habits</td>\n",
              "      <td>Ed Sheeran</td>\n",
              "      <td>5.0</td>\n",
              "      <td>2</td>\n",
              "      <td>18</td>\n",
              "    </tr>\n",
              "  </tbody>\n",
              "</table>\n",
              "</div>\n",
              "      <button class=\"colab-df-convert\" onclick=\"convertToInteractive('df-c36b98d1-fb3e-48b7-a24c-058d462db1ef')\"\n",
              "              title=\"Convert this dataframe to an interactive table.\"\n",
              "              style=\"display:none;\">\n",
              "        \n",
              "  <svg xmlns=\"http://www.w3.org/2000/svg\" height=\"24px\"viewBox=\"0 0 24 24\"\n",
              "       width=\"24px\">\n",
              "    <path d=\"M0 0h24v24H0V0z\" fill=\"none\"/>\n",
              "    <path d=\"M18.56 5.44l.94 2.06.94-2.06 2.06-.94-2.06-.94-.94-2.06-.94 2.06-2.06.94zm-11 1L8.5 8.5l.94-2.06 2.06-.94-2.06-.94L8.5 2.5l-.94 2.06-2.06.94zm10 10l.94 2.06.94-2.06 2.06-.94-2.06-.94-.94-2.06-.94 2.06-2.06.94z\"/><path d=\"M17.41 7.96l-1.37-1.37c-.4-.4-.92-.59-1.43-.59-.52 0-1.04.2-1.43.59L10.3 9.45l-7.72 7.72c-.78.78-.78 2.05 0 2.83L4 21.41c.39.39.9.59 1.41.59.51 0 1.02-.2 1.41-.59l7.78-7.78 2.81-2.81c.8-.78.8-2.07 0-2.86zM5.41 20L4 18.59l7.72-7.72 1.47 1.35L5.41 20z\"/>\n",
              "  </svg>\n",
              "      </button>\n",
              "      \n",
              "  <style>\n",
              "    .colab-df-container {\n",
              "      display:flex;\n",
              "      flex-wrap:wrap;\n",
              "      gap: 12px;\n",
              "    }\n",
              "\n",
              "    .colab-df-convert {\n",
              "      background-color: #E8F0FE;\n",
              "      border: none;\n",
              "      border-radius: 50%;\n",
              "      cursor: pointer;\n",
              "      display: none;\n",
              "      fill: #1967D2;\n",
              "      height: 32px;\n",
              "      padding: 0 0 0 0;\n",
              "      width: 32px;\n",
              "    }\n",
              "\n",
              "    .colab-df-convert:hover {\n",
              "      background-color: #E2EBFA;\n",
              "      box-shadow: 0px 1px 2px rgba(60, 64, 67, 0.3), 0px 1px 3px 1px rgba(60, 64, 67, 0.15);\n",
              "      fill: #174EA6;\n",
              "    }\n",
              "\n",
              "    [theme=dark] .colab-df-convert {\n",
              "      background-color: #3B4455;\n",
              "      fill: #D2E3FC;\n",
              "    }\n",
              "\n",
              "    [theme=dark] .colab-df-convert:hover {\n",
              "      background-color: #434B5C;\n",
              "      box-shadow: 0px 1px 3px 1px rgba(0, 0, 0, 0.15);\n",
              "      filter: drop-shadow(0px 1px 2px rgba(0, 0, 0, 0.3));\n",
              "      fill: #FFFFFF;\n",
              "    }\n",
              "  </style>\n",
              "\n",
              "      <script>\n",
              "        const buttonEl =\n",
              "          document.querySelector('#df-c36b98d1-fb3e-48b7-a24c-058d462db1ef button.colab-df-convert');\n",
              "        buttonEl.style.display =\n",
              "          google.colab.kernel.accessAllowed ? 'block' : 'none';\n",
              "\n",
              "        async function convertToInteractive(key) {\n",
              "          const element = document.querySelector('#df-c36b98d1-fb3e-48b7-a24c-058d462db1ef');\n",
              "          const dataTable =\n",
              "            await google.colab.kernel.invokeFunction('convertToInteractive',\n",
              "                                                     [key], {});\n",
              "          if (!dataTable) return;\n",
              "\n",
              "          const docLinkHtml = 'Like what you see? Visit the ' +\n",
              "            '<a target=\"_blank\" href=https://colab.research.google.com/notebooks/data_table.ipynb>data table notebook</a>'\n",
              "            + ' to learn more about interactive tables.';\n",
              "          element.innerHTML = '';\n",
              "          dataTable['output_type'] = 'display_data';\n",
              "          await google.colab.output.renderOutput(dataTable, element);\n",
              "          const docLink = document.createElement('div');\n",
              "          docLink.innerHTML = docLinkHtml;\n",
              "          element.appendChild(docLink);\n",
              "        }\n",
              "      </script>\n",
              "    </div>\n",
              "  </div>\n",
              "  "
            ]
          },
          "metadata": {},
          "execution_count": 355
        }
      ]
    },
    {
      "cell_type": "code",
      "source": [
        "#create a dataframe with date,song for 1976 to 1998\n",
        "bb_1976to1998 = billboard_df[(billboard_df['date'] <= '1998-12-31') & (billboard_df['date'] >= '1976-01-01')  & (billboard_df['song'])]"
      ],
      "metadata": {
        "id": "KCRuTWiLFvnb"
      },
      "execution_count": null,
      "outputs": []
    },
    {
      "cell_type": "code",
      "source": [
        "bb_1976to1998.info()"
      ],
      "metadata": {
        "colab": {
          "base_uri": "https://localhost:8080/"
        },
        "id": "BplphF5UGJIA",
        "outputId": "8031932b-edd7-491f-f13f-d0b275e3e815"
      },
      "execution_count": null,
      "outputs": [
        {
          "output_type": "stream",
          "name": "stdout",
          "text": [
            "<class 'pandas.core.frame.DataFrame'>\n",
            "Int64Index: 119987 entries, 119300 to 239286\n",
            "Data columns (total 7 columns):\n",
            " #   Column          Non-Null Count   Dtype  \n",
            "---  ------          --------------   -----  \n",
            " 0   date            119987 non-null  object \n",
            " 1   rank            119987 non-null  int64  \n",
            " 2   song            119987 non-null  object \n",
            " 3   artist          119987 non-null  object \n",
            " 4   last-week       110718 non-null  float64\n",
            " 5   peak-rank       119987 non-null  int64  \n",
            " 6   weeks-on-board  119987 non-null  int64  \n",
            "dtypes: float64(1), int64(3), object(3)\n",
            "memory usage: 7.3+ MB\n"
          ]
        }
      ]
    },
    {
      "cell_type": "code",
      "source": [
        "#check for nulls\n",
        "bb_1976to1998.isnull().sum()"
      ],
      "metadata": {
        "colab": {
          "base_uri": "https://localhost:8080/"
        },
        "id": "BeCb4_TZk-5U",
        "outputId": "8fd09383-987e-4c66-b390-b6e2ab497d88"
      },
      "execution_count": null,
      "outputs": [
        {
          "output_type": "execute_result",
          "data": {
            "text/plain": [
              "date                 0\n",
              "rank                 0\n",
              "song                 0\n",
              "artist               0\n",
              "last-week         9269\n",
              "peak-rank            0\n",
              "weeks-on-board       0\n",
              "dtype: int64"
            ]
          },
          "metadata": {},
          "execution_count": 358
        }
      ]
    },
    {
      "cell_type": "code",
      "source": [
        "#create a dataframe with date, song for 1999 to 2021\n",
        "bb_after99 = billboard_df[(billboard_df['date'] >= '1999-01-01') & (billboard_df['date'] <= '2022-01-01') & (billboard_df['song'])]\n"
      ],
      "metadata": {
        "id": "McVKoJagGM79"
      },
      "execution_count": null,
      "outputs": []
    },
    {
      "cell_type": "code",
      "source": [
        "bb_after99.info()"
      ],
      "metadata": {
        "colab": {
          "base_uri": "https://localhost:8080/"
        },
        "id": "k09D8XANGUmx",
        "outputId": "7928e7b5-ead6-44cb-e42b-0637a40cf983"
      },
      "execution_count": null,
      "outputs": [
        {
          "output_type": "stream",
          "name": "stdout",
          "text": [
            "<class 'pandas.core.frame.DataFrame'>\n",
            "Int64Index: 119300 entries, 0 to 119299\n",
            "Data columns (total 7 columns):\n",
            " #   Column          Non-Null Count   Dtype  \n",
            "---  ------          --------------   -----  \n",
            " 0   date            119300 non-null  object \n",
            " 1   rank            119300 non-null  int64  \n",
            " 2   song            119300 non-null  object \n",
            " 3   artist          119300 non-null  object \n",
            " 4   last-week       107958 non-null  float64\n",
            " 5   peak-rank       119300 non-null  int64  \n",
            " 6   weeks-on-board  119300 non-null  int64  \n",
            "dtypes: float64(1), int64(3), object(3)\n",
            "memory usage: 7.3+ MB\n"
          ]
        }
      ]
    },
    {
      "cell_type": "code",
      "execution_count": null,
      "metadata": {
        "colab": {
          "base_uri": "https://localhost:8080/"
        },
        "id": "ou-A25rDkHMn",
        "outputId": "dd4b94a9-25c4-41bb-a44a-fe34d1fc29c2"
      },
      "outputs": [
        {
          "output_type": "execute_result",
          "data": {
            "text/plain": [
              "date                  0\n",
              "rank                  0\n",
              "song                  0\n",
              "artist                0\n",
              "last-week         11342\n",
              "peak-rank             0\n",
              "weeks-on-board        0\n",
              "dtype: int64"
            ]
          },
          "metadata": {},
          "execution_count": 361
        }
      ],
      "source": [
        "#check for nulls\n",
        "bb_after99.isnull().sum()"
      ]
    },
    {
      "cell_type": "markdown",
      "source": [
        "BOTH DATAFRAMES HAVE SIMILAR NUMBER OF ROWS - COMPARABLE DATA SETS, LARGE DATASET TO WORK WITH"
      ],
      "metadata": {
        "id": "YTjao2P6GX5R"
      }
    },
    {
      "cell_type": "markdown",
      "source": [
        "# 3000-ROW RANDOM SAMPLE \n",
        "\n",
        "To account for bias - I will take a 3000 random sample from pre-1999 and post-1999 dataframes. I will make this a smaller sample size so that I can affectively apply Shapiro Wilk testing (most affective for sample sizes less than 5000) to help determine distribution normality.\n"
      ],
      "metadata": {
        "id": "nm51nz6fM3wY"
      }
    },
    {
      "cell_type": "code",
      "source": [
        "#generate 3000 row dataframe for pre 1999\n",
        "pre99_3kr = bb_1976to1998.sample(n=3000)"
      ],
      "metadata": {
        "id": "ve8DCBnTFKZT"
      },
      "execution_count": null,
      "outputs": []
    },
    {
      "cell_type": "code",
      "source": [
        "#check years/date\n",
        "pre99_3kr.head()"
      ],
      "metadata": {
        "colab": {
          "base_uri": "https://localhost:8080/",
          "height": 206
        },
        "id": "ceu7WznJFbJt",
        "outputId": "01fbbe1a-07a0-4521-e00a-b66001d608d0"
      },
      "execution_count": null,
      "outputs": [
        {
          "output_type": "execute_result",
          "data": {
            "text/plain": [
              "              date  rank                           song  \\\n",
              "155208  1992-02-08     9                        Finally   \n",
              "185302  1986-05-03     3                           Kiss   \n",
              "154897  1992-03-07    98  You're All That Matters To Me   \n",
              "184806  1986-06-07     7            Something About You   \n",
              "230220  1977-09-24    21           You Light Up My Life   \n",
              "\n",
              "                           artist  last-week  peak-rank  weeks-on-board  \n",
              "155208              CeCe Peniston        7.0          5              20  \n",
              "185302  Prince And The Revolution        1.0          1              11  \n",
              "154897             Curtis Stigers        NaN         98               1  \n",
              "184806                   Level 42        7.0          7              17  \n",
              "230220                Debby Boone       35.0         21               4  "
            ],
            "text/html": [
              "\n",
              "  <div id=\"df-e7f69957-c9bc-416b-9508-b0e4b32b443a\">\n",
              "    <div class=\"colab-df-container\">\n",
              "      <div>\n",
              "<style scoped>\n",
              "    .dataframe tbody tr th:only-of-type {\n",
              "        vertical-align: middle;\n",
              "    }\n",
              "\n",
              "    .dataframe tbody tr th {\n",
              "        vertical-align: top;\n",
              "    }\n",
              "\n",
              "    .dataframe thead th {\n",
              "        text-align: right;\n",
              "    }\n",
              "</style>\n",
              "<table border=\"1\" class=\"dataframe\">\n",
              "  <thead>\n",
              "    <tr style=\"text-align: right;\">\n",
              "      <th></th>\n",
              "      <th>date</th>\n",
              "      <th>rank</th>\n",
              "      <th>song</th>\n",
              "      <th>artist</th>\n",
              "      <th>last-week</th>\n",
              "      <th>peak-rank</th>\n",
              "      <th>weeks-on-board</th>\n",
              "    </tr>\n",
              "  </thead>\n",
              "  <tbody>\n",
              "    <tr>\n",
              "      <th>155208</th>\n",
              "      <td>1992-02-08</td>\n",
              "      <td>9</td>\n",
              "      <td>Finally</td>\n",
              "      <td>CeCe Peniston</td>\n",
              "      <td>7.0</td>\n",
              "      <td>5</td>\n",
              "      <td>20</td>\n",
              "    </tr>\n",
              "    <tr>\n",
              "      <th>185302</th>\n",
              "      <td>1986-05-03</td>\n",
              "      <td>3</td>\n",
              "      <td>Kiss</td>\n",
              "      <td>Prince And The Revolution</td>\n",
              "      <td>1.0</td>\n",
              "      <td>1</td>\n",
              "      <td>11</td>\n",
              "    </tr>\n",
              "    <tr>\n",
              "      <th>154897</th>\n",
              "      <td>1992-03-07</td>\n",
              "      <td>98</td>\n",
              "      <td>You're All That Matters To Me</td>\n",
              "      <td>Curtis Stigers</td>\n",
              "      <td>NaN</td>\n",
              "      <td>98</td>\n",
              "      <td>1</td>\n",
              "    </tr>\n",
              "    <tr>\n",
              "      <th>184806</th>\n",
              "      <td>1986-06-07</td>\n",
              "      <td>7</td>\n",
              "      <td>Something About You</td>\n",
              "      <td>Level 42</td>\n",
              "      <td>7.0</td>\n",
              "      <td>7</td>\n",
              "      <td>17</td>\n",
              "    </tr>\n",
              "    <tr>\n",
              "      <th>230220</th>\n",
              "      <td>1977-09-24</td>\n",
              "      <td>21</td>\n",
              "      <td>You Light Up My Life</td>\n",
              "      <td>Debby Boone</td>\n",
              "      <td>35.0</td>\n",
              "      <td>21</td>\n",
              "      <td>4</td>\n",
              "    </tr>\n",
              "  </tbody>\n",
              "</table>\n",
              "</div>\n",
              "      <button class=\"colab-df-convert\" onclick=\"convertToInteractive('df-e7f69957-c9bc-416b-9508-b0e4b32b443a')\"\n",
              "              title=\"Convert this dataframe to an interactive table.\"\n",
              "              style=\"display:none;\">\n",
              "        \n",
              "  <svg xmlns=\"http://www.w3.org/2000/svg\" height=\"24px\"viewBox=\"0 0 24 24\"\n",
              "       width=\"24px\">\n",
              "    <path d=\"M0 0h24v24H0V0z\" fill=\"none\"/>\n",
              "    <path d=\"M18.56 5.44l.94 2.06.94-2.06 2.06-.94-2.06-.94-.94-2.06-.94 2.06-2.06.94zm-11 1L8.5 8.5l.94-2.06 2.06-.94-2.06-.94L8.5 2.5l-.94 2.06-2.06.94zm10 10l.94 2.06.94-2.06 2.06-.94-2.06-.94-.94-2.06-.94 2.06-2.06.94z\"/><path d=\"M17.41 7.96l-1.37-1.37c-.4-.4-.92-.59-1.43-.59-.52 0-1.04.2-1.43.59L10.3 9.45l-7.72 7.72c-.78.78-.78 2.05 0 2.83L4 21.41c.39.39.9.59 1.41.59.51 0 1.02-.2 1.41-.59l7.78-7.78 2.81-2.81c.8-.78.8-2.07 0-2.86zM5.41 20L4 18.59l7.72-7.72 1.47 1.35L5.41 20z\"/>\n",
              "  </svg>\n",
              "      </button>\n",
              "      \n",
              "  <style>\n",
              "    .colab-df-container {\n",
              "      display:flex;\n",
              "      flex-wrap:wrap;\n",
              "      gap: 12px;\n",
              "    }\n",
              "\n",
              "    .colab-df-convert {\n",
              "      background-color: #E8F0FE;\n",
              "      border: none;\n",
              "      border-radius: 50%;\n",
              "      cursor: pointer;\n",
              "      display: none;\n",
              "      fill: #1967D2;\n",
              "      height: 32px;\n",
              "      padding: 0 0 0 0;\n",
              "      width: 32px;\n",
              "    }\n",
              "\n",
              "    .colab-df-convert:hover {\n",
              "      background-color: #E2EBFA;\n",
              "      box-shadow: 0px 1px 2px rgba(60, 64, 67, 0.3), 0px 1px 3px 1px rgba(60, 64, 67, 0.15);\n",
              "      fill: #174EA6;\n",
              "    }\n",
              "\n",
              "    [theme=dark] .colab-df-convert {\n",
              "      background-color: #3B4455;\n",
              "      fill: #D2E3FC;\n",
              "    }\n",
              "\n",
              "    [theme=dark] .colab-df-convert:hover {\n",
              "      background-color: #434B5C;\n",
              "      box-shadow: 0px 1px 3px 1px rgba(0, 0, 0, 0.15);\n",
              "      filter: drop-shadow(0px 1px 2px rgba(0, 0, 0, 0.3));\n",
              "      fill: #FFFFFF;\n",
              "    }\n",
              "  </style>\n",
              "\n",
              "      <script>\n",
              "        const buttonEl =\n",
              "          document.querySelector('#df-e7f69957-c9bc-416b-9508-b0e4b32b443a button.colab-df-convert');\n",
              "        buttonEl.style.display =\n",
              "          google.colab.kernel.accessAllowed ? 'block' : 'none';\n",
              "\n",
              "        async function convertToInteractive(key) {\n",
              "          const element = document.querySelector('#df-e7f69957-c9bc-416b-9508-b0e4b32b443a');\n",
              "          const dataTable =\n",
              "            await google.colab.kernel.invokeFunction('convertToInteractive',\n",
              "                                                     [key], {});\n",
              "          if (!dataTable) return;\n",
              "\n",
              "          const docLinkHtml = 'Like what you see? Visit the ' +\n",
              "            '<a target=\"_blank\" href=https://colab.research.google.com/notebooks/data_table.ipynb>data table notebook</a>'\n",
              "            + ' to learn more about interactive tables.';\n",
              "          element.innerHTML = '';\n",
              "          dataTable['output_type'] = 'display_data';\n",
              "          await google.colab.output.renderOutput(dataTable, element);\n",
              "          const docLink = document.createElement('div');\n",
              "          docLink.innerHTML = docLinkHtml;\n",
              "          element.appendChild(docLink);\n",
              "        }\n",
              "      </script>\n",
              "    </div>\n",
              "  </div>\n",
              "  "
            ]
          },
          "metadata": {},
          "execution_count": 363
        }
      ]
    },
    {
      "cell_type": "code",
      "source": [
        "#look at info\n",
        "pre99_3kr.info()"
      ],
      "metadata": {
        "colab": {
          "base_uri": "https://localhost:8080/"
        },
        "id": "q9_FpA_ImDTv",
        "outputId": "e09d13f4-a767-470a-cd59-b9346096dfab"
      },
      "execution_count": null,
      "outputs": [
        {
          "output_type": "stream",
          "name": "stdout",
          "text": [
            "<class 'pandas.core.frame.DataFrame'>\n",
            "Int64Index: 3000 entries, 155208 to 181645\n",
            "Data columns (total 7 columns):\n",
            " #   Column          Non-Null Count  Dtype  \n",
            "---  ------          --------------  -----  \n",
            " 0   date            3000 non-null   object \n",
            " 1   rank            3000 non-null   int64  \n",
            " 2   song            3000 non-null   object \n",
            " 3   artist          3000 non-null   object \n",
            " 4   last-week       2761 non-null   float64\n",
            " 5   peak-rank       3000 non-null   int64  \n",
            " 6   weeks-on-board  3000 non-null   int64  \n",
            "dtypes: float64(1), int64(3), object(3)\n",
            "memory usage: 187.5+ KB\n"
          ]
        }
      ]
    },
    {
      "cell_type": "code",
      "source": [
        "#generate 3000 row dataframe for post 1999\n",
        "post99_3kr = bb_after99.sample(n=3000)"
      ],
      "metadata": {
        "id": "tafbzAdqmKwK"
      },
      "execution_count": null,
      "outputs": []
    },
    {
      "cell_type": "code",
      "source": [
        "post99_3kr.info()"
      ],
      "metadata": {
        "colab": {
          "base_uri": "https://localhost:8080/"
        },
        "id": "TD27UE7TmOUz",
        "outputId": "b5febbbb-429c-4634-bc25-b1199cd4a427"
      },
      "execution_count": null,
      "outputs": [
        {
          "output_type": "stream",
          "name": "stdout",
          "text": [
            "<class 'pandas.core.frame.DataFrame'>\n",
            "Int64Index: 3000 entries, 112890 to 68909\n",
            "Data columns (total 7 columns):\n",
            " #   Column          Non-Null Count  Dtype  \n",
            "---  ------          --------------  -----  \n",
            " 0   date            3000 non-null   object \n",
            " 1   rank            3000 non-null   int64  \n",
            " 2   song            3000 non-null   object \n",
            " 3   artist          3000 non-null   object \n",
            " 4   last-week       2699 non-null   float64\n",
            " 5   peak-rank       3000 non-null   int64  \n",
            " 6   weeks-on-board  3000 non-null   int64  \n",
            "dtypes: float64(1), int64(3), object(3)\n",
            "memory usage: 187.5+ KB\n"
          ]
        }
      ]
    },
    {
      "cell_type": "code",
      "source": [
        "#check years/date\n",
        "post99_3kr.head()"
      ],
      "metadata": {
        "colab": {
          "base_uri": "https://localhost:8080/",
          "height": 206
        },
        "id": "XgPWYPR9mOY_",
        "outputId": "1de038af-e5ac-432e-90b6-1e07ad15b4b7"
      },
      "execution_count": null,
      "outputs": [
        {
          "output_type": "execute_result",
          "data": {
            "text/plain": [
              "              date  rank              song                            artist  \\\n",
              "112890  2000-03-25    91  The Great Beyond                            R.E.M.   \n",
              "15914   2018-10-20    15     Never Recover  Lil Baby & Gunna Featuring Drake   \n",
              "76875   2007-02-17    76     White & Nerdy               \"Weird Al\" Yankovic   \n",
              "22724   2017-07-01    25            Malibu                       Miley Cyrus   \n",
              "68148   2008-10-18    49          Shake It                     Metro Station   \n",
              "\n",
              "        last-week  peak-rank  weeks-on-board  \n",
              "112890       79.0         57              14  \n",
              "15914         NaN         15               1  \n",
              "76875        65.0          9              19  \n",
              "22724        26.0         10               6  \n",
              "68148        38.0         10              27  "
            ],
            "text/html": [
              "\n",
              "  <div id=\"df-0de30b39-d564-4010-a743-42758a46adb6\">\n",
              "    <div class=\"colab-df-container\">\n",
              "      <div>\n",
              "<style scoped>\n",
              "    .dataframe tbody tr th:only-of-type {\n",
              "        vertical-align: middle;\n",
              "    }\n",
              "\n",
              "    .dataframe tbody tr th {\n",
              "        vertical-align: top;\n",
              "    }\n",
              "\n",
              "    .dataframe thead th {\n",
              "        text-align: right;\n",
              "    }\n",
              "</style>\n",
              "<table border=\"1\" class=\"dataframe\">\n",
              "  <thead>\n",
              "    <tr style=\"text-align: right;\">\n",
              "      <th></th>\n",
              "      <th>date</th>\n",
              "      <th>rank</th>\n",
              "      <th>song</th>\n",
              "      <th>artist</th>\n",
              "      <th>last-week</th>\n",
              "      <th>peak-rank</th>\n",
              "      <th>weeks-on-board</th>\n",
              "    </tr>\n",
              "  </thead>\n",
              "  <tbody>\n",
              "    <tr>\n",
              "      <th>112890</th>\n",
              "      <td>2000-03-25</td>\n",
              "      <td>91</td>\n",
              "      <td>The Great Beyond</td>\n",
              "      <td>R.E.M.</td>\n",
              "      <td>79.0</td>\n",
              "      <td>57</td>\n",
              "      <td>14</td>\n",
              "    </tr>\n",
              "    <tr>\n",
              "      <th>15914</th>\n",
              "      <td>2018-10-20</td>\n",
              "      <td>15</td>\n",
              "      <td>Never Recover</td>\n",
              "      <td>Lil Baby &amp; Gunna Featuring Drake</td>\n",
              "      <td>NaN</td>\n",
              "      <td>15</td>\n",
              "      <td>1</td>\n",
              "    </tr>\n",
              "    <tr>\n",
              "      <th>76875</th>\n",
              "      <td>2007-02-17</td>\n",
              "      <td>76</td>\n",
              "      <td>White &amp; Nerdy</td>\n",
              "      <td>\"Weird Al\" Yankovic</td>\n",
              "      <td>65.0</td>\n",
              "      <td>9</td>\n",
              "      <td>19</td>\n",
              "    </tr>\n",
              "    <tr>\n",
              "      <th>22724</th>\n",
              "      <td>2017-07-01</td>\n",
              "      <td>25</td>\n",
              "      <td>Malibu</td>\n",
              "      <td>Miley Cyrus</td>\n",
              "      <td>26.0</td>\n",
              "      <td>10</td>\n",
              "      <td>6</td>\n",
              "    </tr>\n",
              "    <tr>\n",
              "      <th>68148</th>\n",
              "      <td>2008-10-18</td>\n",
              "      <td>49</td>\n",
              "      <td>Shake It</td>\n",
              "      <td>Metro Station</td>\n",
              "      <td>38.0</td>\n",
              "      <td>10</td>\n",
              "      <td>27</td>\n",
              "    </tr>\n",
              "  </tbody>\n",
              "</table>\n",
              "</div>\n",
              "      <button class=\"colab-df-convert\" onclick=\"convertToInteractive('df-0de30b39-d564-4010-a743-42758a46adb6')\"\n",
              "              title=\"Convert this dataframe to an interactive table.\"\n",
              "              style=\"display:none;\">\n",
              "        \n",
              "  <svg xmlns=\"http://www.w3.org/2000/svg\" height=\"24px\"viewBox=\"0 0 24 24\"\n",
              "       width=\"24px\">\n",
              "    <path d=\"M0 0h24v24H0V0z\" fill=\"none\"/>\n",
              "    <path d=\"M18.56 5.44l.94 2.06.94-2.06 2.06-.94-2.06-.94-.94-2.06-.94 2.06-2.06.94zm-11 1L8.5 8.5l.94-2.06 2.06-.94-2.06-.94L8.5 2.5l-.94 2.06-2.06.94zm10 10l.94 2.06.94-2.06 2.06-.94-2.06-.94-.94-2.06-.94 2.06-2.06.94z\"/><path d=\"M17.41 7.96l-1.37-1.37c-.4-.4-.92-.59-1.43-.59-.52 0-1.04.2-1.43.59L10.3 9.45l-7.72 7.72c-.78.78-.78 2.05 0 2.83L4 21.41c.39.39.9.59 1.41.59.51 0 1.02-.2 1.41-.59l7.78-7.78 2.81-2.81c.8-.78.8-2.07 0-2.86zM5.41 20L4 18.59l7.72-7.72 1.47 1.35L5.41 20z\"/>\n",
              "  </svg>\n",
              "      </button>\n",
              "      \n",
              "  <style>\n",
              "    .colab-df-container {\n",
              "      display:flex;\n",
              "      flex-wrap:wrap;\n",
              "      gap: 12px;\n",
              "    }\n",
              "\n",
              "    .colab-df-convert {\n",
              "      background-color: #E8F0FE;\n",
              "      border: none;\n",
              "      border-radius: 50%;\n",
              "      cursor: pointer;\n",
              "      display: none;\n",
              "      fill: #1967D2;\n",
              "      height: 32px;\n",
              "      padding: 0 0 0 0;\n",
              "      width: 32px;\n",
              "    }\n",
              "\n",
              "    .colab-df-convert:hover {\n",
              "      background-color: #E2EBFA;\n",
              "      box-shadow: 0px 1px 2px rgba(60, 64, 67, 0.3), 0px 1px 3px 1px rgba(60, 64, 67, 0.15);\n",
              "      fill: #174EA6;\n",
              "    }\n",
              "\n",
              "    [theme=dark] .colab-df-convert {\n",
              "      background-color: #3B4455;\n",
              "      fill: #D2E3FC;\n",
              "    }\n",
              "\n",
              "    [theme=dark] .colab-df-convert:hover {\n",
              "      background-color: #434B5C;\n",
              "      box-shadow: 0px 1px 3px 1px rgba(0, 0, 0, 0.15);\n",
              "      filter: drop-shadow(0px 1px 2px rgba(0, 0, 0, 0.3));\n",
              "      fill: #FFFFFF;\n",
              "    }\n",
              "  </style>\n",
              "\n",
              "      <script>\n",
              "        const buttonEl =\n",
              "          document.querySelector('#df-0de30b39-d564-4010-a743-42758a46adb6 button.colab-df-convert');\n",
              "        buttonEl.style.display =\n",
              "          google.colab.kernel.accessAllowed ? 'block' : 'none';\n",
              "\n",
              "        async function convertToInteractive(key) {\n",
              "          const element = document.querySelector('#df-0de30b39-d564-4010-a743-42758a46adb6');\n",
              "          const dataTable =\n",
              "            await google.colab.kernel.invokeFunction('convertToInteractive',\n",
              "                                                     [key], {});\n",
              "          if (!dataTable) return;\n",
              "\n",
              "          const docLinkHtml = 'Like what you see? Visit the ' +\n",
              "            '<a target=\"_blank\" href=https://colab.research.google.com/notebooks/data_table.ipynb>data table notebook</a>'\n",
              "            + ' to learn more about interactive tables.';\n",
              "          element.innerHTML = '';\n",
              "          dataTable['output_type'] = 'display_data';\n",
              "          await google.colab.output.renderOutput(dataTable, element);\n",
              "          const docLink = document.createElement('div');\n",
              "          docLink.innerHTML = docLinkHtml;\n",
              "          element.appendChild(docLink);\n",
              "        }\n",
              "      </script>\n",
              "    </div>\n",
              "  </div>\n",
              "  "
            ]
          },
          "metadata": {},
          "execution_count": 367
        }
      ]
    },
    {
      "cell_type": "markdown",
      "source": [
        "## ACCOUNTING FOR NULLS"
      ],
      "metadata": {
        "id": "eSpb9Yzxm_Vt"
      }
    },
    {
      "cell_type": "code",
      "source": [
        "#checking for nulls\n",
        "pre99_3kr.isnull().sum()"
      ],
      "metadata": {
        "colab": {
          "base_uri": "https://localhost:8080/"
        },
        "id": "TEJm3lE1nDGK",
        "outputId": "0e5a53e0-b0a2-4091-b80a-ac0a49f07b78"
      },
      "execution_count": null,
      "outputs": [
        {
          "output_type": "execute_result",
          "data": {
            "text/plain": [
              "date                0\n",
              "rank                0\n",
              "song                0\n",
              "artist              0\n",
              "last-week         239\n",
              "peak-rank           0\n",
              "weeks-on-board      0\n",
              "dtype: int64"
            ]
          },
          "metadata": {},
          "execution_count": 368
        }
      ]
    },
    {
      "cell_type": "code",
      "source": [
        "#checking for nulls\n",
        "post99_3kr.isnull().sum()"
      ],
      "metadata": {
        "colab": {
          "base_uri": "https://localhost:8080/"
        },
        "id": "aSv8S-yjnIcY",
        "outputId": "2d669bd4-7d32-4a5e-d706-c41f5ea21568"
      },
      "execution_count": null,
      "outputs": [
        {
          "output_type": "execute_result",
          "data": {
            "text/plain": [
              "date                0\n",
              "rank                0\n",
              "song                0\n",
              "artist              0\n",
              "last-week         301\n",
              "peak-rank           0\n",
              "weeks-on-board      0\n",
              "dtype: int64"
            ]
          },
          "metadata": {},
          "execution_count": 369
        }
      ]
    },
    {
      "cell_type": "code",
      "source": [
        "#droping nulls\n",
        "pre99_3kr_dropped = pre99_3kr.dropna()"
      ],
      "metadata": {
        "id": "E4OUJMzXnOGd"
      },
      "execution_count": null,
      "outputs": []
    },
    {
      "cell_type": "code",
      "source": [
        "#dropping nulls\n",
        "post99_3kr_dropped = post99_3kr.dropna()"
      ],
      "metadata": {
        "id": "lAwT4c8nnOMd"
      },
      "execution_count": null,
      "outputs": []
    },
    {
      "cell_type": "code",
      "source": [
        "pre99_3kr_dropped.info()"
      ],
      "metadata": {
        "colab": {
          "base_uri": "https://localhost:8080/"
        },
        "id": "EQNCYAHEihBr",
        "outputId": "4c9f2654-dfc1-40dd-f6ed-9c17b19d9617"
      },
      "execution_count": null,
      "outputs": [
        {
          "output_type": "stream",
          "name": "stdout",
          "text": [
            "<class 'pandas.core.frame.DataFrame'>\n",
            "Int64Index: 2761 entries, 155208 to 181645\n",
            "Data columns (total 7 columns):\n",
            " #   Column          Non-Null Count  Dtype  \n",
            "---  ------          --------------  -----  \n",
            " 0   date            2761 non-null   object \n",
            " 1   rank            2761 non-null   int64  \n",
            " 2   song            2761 non-null   object \n",
            " 3   artist          2761 non-null   object \n",
            " 4   last-week       2761 non-null   float64\n",
            " 5   peak-rank       2761 non-null   int64  \n",
            " 6   weeks-on-board  2761 non-null   int64  \n",
            "dtypes: float64(1), int64(3), object(3)\n",
            "memory usage: 172.6+ KB\n"
          ]
        }
      ]
    },
    {
      "cell_type": "code",
      "source": [
        "post99_3kr_dropped.info()"
      ],
      "metadata": {
        "colab": {
          "base_uri": "https://localhost:8080/"
        },
        "id": "_KvWbbwVnmrp",
        "outputId": "ea18ee01-b3e4-4712-d3eb-1b46873c61dd"
      },
      "execution_count": null,
      "outputs": [
        {
          "output_type": "stream",
          "name": "stdout",
          "text": [
            "<class 'pandas.core.frame.DataFrame'>\n",
            "Int64Index: 2699 entries, 112890 to 68909\n",
            "Data columns (total 7 columns):\n",
            " #   Column          Non-Null Count  Dtype  \n",
            "---  ------          --------------  -----  \n",
            " 0   date            2699 non-null   object \n",
            " 1   rank            2699 non-null   int64  \n",
            " 2   song            2699 non-null   object \n",
            " 3   artist          2699 non-null   object \n",
            " 4   last-week       2699 non-null   float64\n",
            " 5   peak-rank       2699 non-null   int64  \n",
            " 6   weeks-on-board  2699 non-null   int64  \n",
            "dtypes: float64(1), int64(3), object(3)\n",
            "memory usage: 168.7+ KB\n"
          ]
        }
      ]
    },
    {
      "cell_type": "code",
      "source": [
        "pre99_3kr_dropped.isnull().sum()"
      ],
      "metadata": {
        "colab": {
          "base_uri": "https://localhost:8080/"
        },
        "id": "Z4l66adCiqPC",
        "outputId": "22fd2305-f9ac-4bbe-d5f2-eb69b4a33151"
      },
      "execution_count": null,
      "outputs": [
        {
          "output_type": "execute_result",
          "data": {
            "text/plain": [
              "date              0\n",
              "rank              0\n",
              "song              0\n",
              "artist            0\n",
              "last-week         0\n",
              "peak-rank         0\n",
              "weeks-on-board    0\n",
              "dtype: int64"
            ]
          },
          "metadata": {},
          "execution_count": 374
        }
      ]
    },
    {
      "cell_type": "code",
      "source": [
        "post99_3kr_dropped.isnull().sum()"
      ],
      "metadata": {
        "colab": {
          "base_uri": "https://localhost:8080/"
        },
        "id": "qESORSPVnmu7",
        "outputId": "27b4038a-a8b8-4f98-d959-47d53d5e785c"
      },
      "execution_count": null,
      "outputs": [
        {
          "output_type": "execute_result",
          "data": {
            "text/plain": [
              "date              0\n",
              "rank              0\n",
              "song              0\n",
              "artist            0\n",
              "last-week         0\n",
              "peak-rank         0\n",
              "weeks-on-board    0\n",
              "dtype: int64"
            ]
          },
          "metadata": {},
          "execution_count": 375
        }
      ]
    },
    {
      "cell_type": "code",
      "source": [
        "#check years/date\n",
        "pre99_3kr_dropped.head()"
      ],
      "metadata": {
        "colab": {
          "base_uri": "https://localhost:8080/",
          "height": 206
        },
        "id": "Usf_prZbeZ-0",
        "outputId": "a8169492-2908-4a88-dcb3-681993f61ab9"
      },
      "execution_count": null,
      "outputs": [
        {
          "output_type": "execute_result",
          "data": {
            "text/plain": [
              "              date  rank                  song                     artist  \\\n",
              "155208  1992-02-08     9               Finally              CeCe Peniston   \n",
              "185302  1986-05-03     3                  Kiss  Prince And The Revolution   \n",
              "184806  1986-06-07     7   Something About You                   Level 42   \n",
              "230220  1977-09-24    21  You Light Up My Life                Debby Boone   \n",
              "133056  1996-05-11    57     Tres Delinquentes          Delinquent Habits   \n",
              "\n",
              "        last-week  peak-rank  weeks-on-board  \n",
              "155208        7.0          5              20  \n",
              "185302        1.0          1              11  \n",
              "184806        7.0          7              17  \n",
              "230220       35.0         21               4  \n",
              "133056       61.0         57               3  "
            ],
            "text/html": [
              "\n",
              "  <div id=\"df-1692b485-507f-47b6-9935-c09fcde98f57\">\n",
              "    <div class=\"colab-df-container\">\n",
              "      <div>\n",
              "<style scoped>\n",
              "    .dataframe tbody tr th:only-of-type {\n",
              "        vertical-align: middle;\n",
              "    }\n",
              "\n",
              "    .dataframe tbody tr th {\n",
              "        vertical-align: top;\n",
              "    }\n",
              "\n",
              "    .dataframe thead th {\n",
              "        text-align: right;\n",
              "    }\n",
              "</style>\n",
              "<table border=\"1\" class=\"dataframe\">\n",
              "  <thead>\n",
              "    <tr style=\"text-align: right;\">\n",
              "      <th></th>\n",
              "      <th>date</th>\n",
              "      <th>rank</th>\n",
              "      <th>song</th>\n",
              "      <th>artist</th>\n",
              "      <th>last-week</th>\n",
              "      <th>peak-rank</th>\n",
              "      <th>weeks-on-board</th>\n",
              "    </tr>\n",
              "  </thead>\n",
              "  <tbody>\n",
              "    <tr>\n",
              "      <th>155208</th>\n",
              "      <td>1992-02-08</td>\n",
              "      <td>9</td>\n",
              "      <td>Finally</td>\n",
              "      <td>CeCe Peniston</td>\n",
              "      <td>7.0</td>\n",
              "      <td>5</td>\n",
              "      <td>20</td>\n",
              "    </tr>\n",
              "    <tr>\n",
              "      <th>185302</th>\n",
              "      <td>1986-05-03</td>\n",
              "      <td>3</td>\n",
              "      <td>Kiss</td>\n",
              "      <td>Prince And The Revolution</td>\n",
              "      <td>1.0</td>\n",
              "      <td>1</td>\n",
              "      <td>11</td>\n",
              "    </tr>\n",
              "    <tr>\n",
              "      <th>184806</th>\n",
              "      <td>1986-06-07</td>\n",
              "      <td>7</td>\n",
              "      <td>Something About You</td>\n",
              "      <td>Level 42</td>\n",
              "      <td>7.0</td>\n",
              "      <td>7</td>\n",
              "      <td>17</td>\n",
              "    </tr>\n",
              "    <tr>\n",
              "      <th>230220</th>\n",
              "      <td>1977-09-24</td>\n",
              "      <td>21</td>\n",
              "      <td>You Light Up My Life</td>\n",
              "      <td>Debby Boone</td>\n",
              "      <td>35.0</td>\n",
              "      <td>21</td>\n",
              "      <td>4</td>\n",
              "    </tr>\n",
              "    <tr>\n",
              "      <th>133056</th>\n",
              "      <td>1996-05-11</td>\n",
              "      <td>57</td>\n",
              "      <td>Tres Delinquentes</td>\n",
              "      <td>Delinquent Habits</td>\n",
              "      <td>61.0</td>\n",
              "      <td>57</td>\n",
              "      <td>3</td>\n",
              "    </tr>\n",
              "  </tbody>\n",
              "</table>\n",
              "</div>\n",
              "      <button class=\"colab-df-convert\" onclick=\"convertToInteractive('df-1692b485-507f-47b6-9935-c09fcde98f57')\"\n",
              "              title=\"Convert this dataframe to an interactive table.\"\n",
              "              style=\"display:none;\">\n",
              "        \n",
              "  <svg xmlns=\"http://www.w3.org/2000/svg\" height=\"24px\"viewBox=\"0 0 24 24\"\n",
              "       width=\"24px\">\n",
              "    <path d=\"M0 0h24v24H0V0z\" fill=\"none\"/>\n",
              "    <path d=\"M18.56 5.44l.94 2.06.94-2.06 2.06-.94-2.06-.94-.94-2.06-.94 2.06-2.06.94zm-11 1L8.5 8.5l.94-2.06 2.06-.94-2.06-.94L8.5 2.5l-.94 2.06-2.06.94zm10 10l.94 2.06.94-2.06 2.06-.94-2.06-.94-.94-2.06-.94 2.06-2.06.94z\"/><path d=\"M17.41 7.96l-1.37-1.37c-.4-.4-.92-.59-1.43-.59-.52 0-1.04.2-1.43.59L10.3 9.45l-7.72 7.72c-.78.78-.78 2.05 0 2.83L4 21.41c.39.39.9.59 1.41.59.51 0 1.02-.2 1.41-.59l7.78-7.78 2.81-2.81c.8-.78.8-2.07 0-2.86zM5.41 20L4 18.59l7.72-7.72 1.47 1.35L5.41 20z\"/>\n",
              "  </svg>\n",
              "      </button>\n",
              "      \n",
              "  <style>\n",
              "    .colab-df-container {\n",
              "      display:flex;\n",
              "      flex-wrap:wrap;\n",
              "      gap: 12px;\n",
              "    }\n",
              "\n",
              "    .colab-df-convert {\n",
              "      background-color: #E8F0FE;\n",
              "      border: none;\n",
              "      border-radius: 50%;\n",
              "      cursor: pointer;\n",
              "      display: none;\n",
              "      fill: #1967D2;\n",
              "      height: 32px;\n",
              "      padding: 0 0 0 0;\n",
              "      width: 32px;\n",
              "    }\n",
              "\n",
              "    .colab-df-convert:hover {\n",
              "      background-color: #E2EBFA;\n",
              "      box-shadow: 0px 1px 2px rgba(60, 64, 67, 0.3), 0px 1px 3px 1px rgba(60, 64, 67, 0.15);\n",
              "      fill: #174EA6;\n",
              "    }\n",
              "\n",
              "    [theme=dark] .colab-df-convert {\n",
              "      background-color: #3B4455;\n",
              "      fill: #D2E3FC;\n",
              "    }\n",
              "\n",
              "    [theme=dark] .colab-df-convert:hover {\n",
              "      background-color: #434B5C;\n",
              "      box-shadow: 0px 1px 3px 1px rgba(0, 0, 0, 0.15);\n",
              "      filter: drop-shadow(0px 1px 2px rgba(0, 0, 0, 0.3));\n",
              "      fill: #FFFFFF;\n",
              "    }\n",
              "  </style>\n",
              "\n",
              "      <script>\n",
              "        const buttonEl =\n",
              "          document.querySelector('#df-1692b485-507f-47b6-9935-c09fcde98f57 button.colab-df-convert');\n",
              "        buttonEl.style.display =\n",
              "          google.colab.kernel.accessAllowed ? 'block' : 'none';\n",
              "\n",
              "        async function convertToInteractive(key) {\n",
              "          const element = document.querySelector('#df-1692b485-507f-47b6-9935-c09fcde98f57');\n",
              "          const dataTable =\n",
              "            await google.colab.kernel.invokeFunction('convertToInteractive',\n",
              "                                                     [key], {});\n",
              "          if (!dataTable) return;\n",
              "\n",
              "          const docLinkHtml = 'Like what you see? Visit the ' +\n",
              "            '<a target=\"_blank\" href=https://colab.research.google.com/notebooks/data_table.ipynb>data table notebook</a>'\n",
              "            + ' to learn more about interactive tables.';\n",
              "          element.innerHTML = '';\n",
              "          dataTable['output_type'] = 'display_data';\n",
              "          await google.colab.output.renderOutput(dataTable, element);\n",
              "          const docLink = document.createElement('div');\n",
              "          docLink.innerHTML = docLinkHtml;\n",
              "          element.appendChild(docLink);\n",
              "        }\n",
              "      </script>\n",
              "    </div>\n",
              "  </div>\n",
              "  "
            ]
          },
          "metadata": {},
          "execution_count": 376
        }
      ]
    },
    {
      "cell_type": "code",
      "source": [
        "#check years/date\n",
        "post99_3kr_dropped.head()"
      ],
      "metadata": {
        "colab": {
          "base_uri": "https://localhost:8080/",
          "height": 206
        },
        "id": "gF7n5gx-iuVu",
        "outputId": "dc6f365e-1c4e-4f63-8430-f0b17cb4f3b3"
      },
      "execution_count": null,
      "outputs": [
        {
          "output_type": "execute_result",
          "data": {
            "text/plain": [
              "              date  rank              song               artist  last-week  \\\n",
              "112890  2000-03-25    91  The Great Beyond               R.E.M.       79.0   \n",
              "76875   2007-02-17    76     White & Nerdy  \"Weird Al\" Yankovic       65.0   \n",
              "22724   2017-07-01    25            Malibu          Miley Cyrus       26.0   \n",
              "68148   2008-10-18    49          Shake It        Metro Station       38.0   \n",
              "35542   2015-01-17    43     Shotgun Rider           Tim McGraw       41.0   \n",
              "\n",
              "        peak-rank  weeks-on-board  \n",
              "112890         57              14  \n",
              "76875           9              19  \n",
              "22724          10               6  \n",
              "68148          10              27  \n",
              "35542          38              14  "
            ],
            "text/html": [
              "\n",
              "  <div id=\"df-3194b035-76c7-43a2-98aa-77cdb4d2d34e\">\n",
              "    <div class=\"colab-df-container\">\n",
              "      <div>\n",
              "<style scoped>\n",
              "    .dataframe tbody tr th:only-of-type {\n",
              "        vertical-align: middle;\n",
              "    }\n",
              "\n",
              "    .dataframe tbody tr th {\n",
              "        vertical-align: top;\n",
              "    }\n",
              "\n",
              "    .dataframe thead th {\n",
              "        text-align: right;\n",
              "    }\n",
              "</style>\n",
              "<table border=\"1\" class=\"dataframe\">\n",
              "  <thead>\n",
              "    <tr style=\"text-align: right;\">\n",
              "      <th></th>\n",
              "      <th>date</th>\n",
              "      <th>rank</th>\n",
              "      <th>song</th>\n",
              "      <th>artist</th>\n",
              "      <th>last-week</th>\n",
              "      <th>peak-rank</th>\n",
              "      <th>weeks-on-board</th>\n",
              "    </tr>\n",
              "  </thead>\n",
              "  <tbody>\n",
              "    <tr>\n",
              "      <th>112890</th>\n",
              "      <td>2000-03-25</td>\n",
              "      <td>91</td>\n",
              "      <td>The Great Beyond</td>\n",
              "      <td>R.E.M.</td>\n",
              "      <td>79.0</td>\n",
              "      <td>57</td>\n",
              "      <td>14</td>\n",
              "    </tr>\n",
              "    <tr>\n",
              "      <th>76875</th>\n",
              "      <td>2007-02-17</td>\n",
              "      <td>76</td>\n",
              "      <td>White &amp; Nerdy</td>\n",
              "      <td>\"Weird Al\" Yankovic</td>\n",
              "      <td>65.0</td>\n",
              "      <td>9</td>\n",
              "      <td>19</td>\n",
              "    </tr>\n",
              "    <tr>\n",
              "      <th>22724</th>\n",
              "      <td>2017-07-01</td>\n",
              "      <td>25</td>\n",
              "      <td>Malibu</td>\n",
              "      <td>Miley Cyrus</td>\n",
              "      <td>26.0</td>\n",
              "      <td>10</td>\n",
              "      <td>6</td>\n",
              "    </tr>\n",
              "    <tr>\n",
              "      <th>68148</th>\n",
              "      <td>2008-10-18</td>\n",
              "      <td>49</td>\n",
              "      <td>Shake It</td>\n",
              "      <td>Metro Station</td>\n",
              "      <td>38.0</td>\n",
              "      <td>10</td>\n",
              "      <td>27</td>\n",
              "    </tr>\n",
              "    <tr>\n",
              "      <th>35542</th>\n",
              "      <td>2015-01-17</td>\n",
              "      <td>43</td>\n",
              "      <td>Shotgun Rider</td>\n",
              "      <td>Tim McGraw</td>\n",
              "      <td>41.0</td>\n",
              "      <td>38</td>\n",
              "      <td>14</td>\n",
              "    </tr>\n",
              "  </tbody>\n",
              "</table>\n",
              "</div>\n",
              "      <button class=\"colab-df-convert\" onclick=\"convertToInteractive('df-3194b035-76c7-43a2-98aa-77cdb4d2d34e')\"\n",
              "              title=\"Convert this dataframe to an interactive table.\"\n",
              "              style=\"display:none;\">\n",
              "        \n",
              "  <svg xmlns=\"http://www.w3.org/2000/svg\" height=\"24px\"viewBox=\"0 0 24 24\"\n",
              "       width=\"24px\">\n",
              "    <path d=\"M0 0h24v24H0V0z\" fill=\"none\"/>\n",
              "    <path d=\"M18.56 5.44l.94 2.06.94-2.06 2.06-.94-2.06-.94-.94-2.06-.94 2.06-2.06.94zm-11 1L8.5 8.5l.94-2.06 2.06-.94-2.06-.94L8.5 2.5l-.94 2.06-2.06.94zm10 10l.94 2.06.94-2.06 2.06-.94-2.06-.94-.94-2.06-.94 2.06-2.06.94z\"/><path d=\"M17.41 7.96l-1.37-1.37c-.4-.4-.92-.59-1.43-.59-.52 0-1.04.2-1.43.59L10.3 9.45l-7.72 7.72c-.78.78-.78 2.05 0 2.83L4 21.41c.39.39.9.59 1.41.59.51 0 1.02-.2 1.41-.59l7.78-7.78 2.81-2.81c.8-.78.8-2.07 0-2.86zM5.41 20L4 18.59l7.72-7.72 1.47 1.35L5.41 20z\"/>\n",
              "  </svg>\n",
              "      </button>\n",
              "      \n",
              "  <style>\n",
              "    .colab-df-container {\n",
              "      display:flex;\n",
              "      flex-wrap:wrap;\n",
              "      gap: 12px;\n",
              "    }\n",
              "\n",
              "    .colab-df-convert {\n",
              "      background-color: #E8F0FE;\n",
              "      border: none;\n",
              "      border-radius: 50%;\n",
              "      cursor: pointer;\n",
              "      display: none;\n",
              "      fill: #1967D2;\n",
              "      height: 32px;\n",
              "      padding: 0 0 0 0;\n",
              "      width: 32px;\n",
              "    }\n",
              "\n",
              "    .colab-df-convert:hover {\n",
              "      background-color: #E2EBFA;\n",
              "      box-shadow: 0px 1px 2px rgba(60, 64, 67, 0.3), 0px 1px 3px 1px rgba(60, 64, 67, 0.15);\n",
              "      fill: #174EA6;\n",
              "    }\n",
              "\n",
              "    [theme=dark] .colab-df-convert {\n",
              "      background-color: #3B4455;\n",
              "      fill: #D2E3FC;\n",
              "    }\n",
              "\n",
              "    [theme=dark] .colab-df-convert:hover {\n",
              "      background-color: #434B5C;\n",
              "      box-shadow: 0px 1px 3px 1px rgba(0, 0, 0, 0.15);\n",
              "      filter: drop-shadow(0px 1px 2px rgba(0, 0, 0, 0.3));\n",
              "      fill: #FFFFFF;\n",
              "    }\n",
              "  </style>\n",
              "\n",
              "      <script>\n",
              "        const buttonEl =\n",
              "          document.querySelector('#df-3194b035-76c7-43a2-98aa-77cdb4d2d34e button.colab-df-convert');\n",
              "        buttonEl.style.display =\n",
              "          google.colab.kernel.accessAllowed ? 'block' : 'none';\n",
              "\n",
              "        async function convertToInteractive(key) {\n",
              "          const element = document.querySelector('#df-3194b035-76c7-43a2-98aa-77cdb4d2d34e');\n",
              "          const dataTable =\n",
              "            await google.colab.kernel.invokeFunction('convertToInteractive',\n",
              "                                                     [key], {});\n",
              "          if (!dataTable) return;\n",
              "\n",
              "          const docLinkHtml = 'Like what you see? Visit the ' +\n",
              "            '<a target=\"_blank\" href=https://colab.research.google.com/notebooks/data_table.ipynb>data table notebook</a>'\n",
              "            + ' to learn more about interactive tables.';\n",
              "          element.innerHTML = '';\n",
              "          dataTable['output_type'] = 'display_data';\n",
              "          await google.colab.output.renderOutput(dataTable, element);\n",
              "          const docLink = document.createElement('div');\n",
              "          docLink.innerHTML = docLinkHtml;\n",
              "          element.appendChild(docLink);\n",
              "        }\n",
              "      </script>\n",
              "    </div>\n",
              "  </div>\n",
              "  "
            ]
          },
          "metadata": {},
          "execution_count": 377
        }
      ]
    },
    {
      "cell_type": "code",
      "source": [
        "stats.describe(pre99_3kr_dropped['weeks-on-board'])"
      ],
      "metadata": {
        "colab": {
          "base_uri": "https://localhost:8080/"
        },
        "id": "Dac8vOHLueD5",
        "outputId": "00568672-7441-433d-e843-188ee88750b7"
      },
      "execution_count": null,
      "outputs": [
        {
          "output_type": "execute_result",
          "data": {
            "text/plain": [
              "DescribeResult(nobs=2761, minmax=(2, 60), mean=9.720028975009054, variance=40.68354434698623, skewness=1.3417622193832102, kurtosis=3.7999434950368425)"
            ]
          },
          "metadata": {},
          "execution_count": 378
        }
      ]
    },
    {
      "cell_type": "code",
      "source": [
        "stats.describe(post99_3kr_dropped['weeks-on-board'])"
      ],
      "metadata": {
        "colab": {
          "base_uri": "https://localhost:8080/"
        },
        "id": "3lD_9n-lumMl",
        "outputId": "2af18795-0619-4d67-a53b-d583fbf3d599"
      },
      "execution_count": null,
      "outputs": [
        {
          "output_type": "execute_result",
          "data": {
            "text/plain": [
              "DescribeResult(nobs=2699, minmax=(2, 60), mean=12.525009262689885, variance=77.40143138427297, skewness=1.3395426900751615, kurtosis=2.3510099219885845)"
            ]
          },
          "metadata": {},
          "execution_count": 379
        }
      ]
    },
    {
      "cell_type": "markdown",
      "source": [
        "STATS DESCRIBE SHOW BOTH \"PRE99 3KR DROPPED\" AND \"POST99 3KR DROPPED\" AS SKEWED (>1)  AND HIGH KURTOSIS (>3)"
      ],
      "metadata": {
        "id": "JoyeFIuOvNTN"
      }
    },
    {
      "cell_type": "code",
      "source": [
        "sns.distplot(pre99_3kr_dropped['weeks-on-board'])\n",
        "plt.title('Pre 1999 \"Weeks on Board\" ')\n",
        "plt.show()"
      ],
      "metadata": {
        "colab": {
          "base_uri": "https://localhost:8080/",
          "height": 356
        },
        "id": "PTtERzEgH3y8",
        "outputId": "534b6500-95d6-4ff8-ba91-d53f83bb9709"
      },
      "execution_count": null,
      "outputs": [
        {
          "output_type": "stream",
          "name": "stderr",
          "text": [
            "/usr/local/lib/python3.7/dist-packages/seaborn/distributions.py:2619: FutureWarning: `distplot` is a deprecated function and will be removed in a future version. Please adapt your code to use either `displot` (a figure-level function with similar flexibility) or `histplot` (an axes-level function for histograms).\n",
            "  warnings.warn(msg, FutureWarning)\n"
          ]
        },
        {
          "output_type": "display_data",
          "data": {
            "text/plain": [
              "<Figure size 432x288 with 1 Axes>"
            ],
            "image/png": "[encoded data removed]"
          },
          "metadata": {}
        }
      ]
    },
    {
      "cell_type": "markdown",
      "source": [
        "**pre99 3kr dropped is definitley right skewed**"
      ],
      "metadata": {
        "id": "cgbjlLuWIPbX"
      }
    },
    {
      "cell_type": "code",
      "source": [
        "sns.distplot(post99_3kr_dropped['weeks-on-board'])\n",
        "plt.title('Post 1999 \"Weeks on Board\" ')\n",
        "plt.show()"
      ],
      "metadata": {
        "colab": {
          "base_uri": "https://localhost:8080/",
          "height": 356
        },
        "id": "9lP3yvroIVlL",
        "outputId": "d287ec15-dad4-47ad-a482-1d7fec250488"
      },
      "execution_count": null,
      "outputs": [
        {
          "output_type": "stream",
          "name": "stderr",
          "text": [
            "/usr/local/lib/python3.7/dist-packages/seaborn/distributions.py:2619: FutureWarning: `distplot` is a deprecated function and will be removed in a future version. Please adapt your code to use either `displot` (a figure-level function with similar flexibility) or `histplot` (an axes-level function for histograms).\n",
            "  warnings.warn(msg, FutureWarning)\n"
          ]
        },
        {
          "output_type": "display_data",
          "data": {
            "text/plain": [
              "<Figure size 432x288 with 1 Axes>"
            ],
            "image/png": "[encoded data removed]"
          },
          "metadata": {}
        }
      ]
    },
    {
      "cell_type": "markdown",
      "source": [
        "**post99_3kr_dropped is definitely right skewed as well**"
      ],
      "metadata": {
        "id": "oBkaI0I-IY8H"
      }
    },
    {
      "cell_type": "markdown",
      "source": [
        "<hr>\n"
      ],
      "metadata": {
        "id": "JnAqA0-U0Yuj"
      }
    },
    {
      "cell_type": "markdown",
      "source": [
        "# CHECKING FOR OUTLIERS"
      ],
      "metadata": {
        "id": "gEsBxWboEnrg"
      }
    },
    {
      "cell_type": "code",
      "source": [
        "#chekcing for outliers with boxplot for PRE99\n",
        "fig = plt.figure() \n",
        "fig.set_size_inches(20,4)\n",
        "sns.boxplot(x = pre99_3kr_dropped['weeks-on-board'], notch=True)\n",
        "plt.title(\"Outliers without nulls for Pre 1999\")\n",
        "plt.xlim(0, 70)\n",
        "plt.locator_params(axis='x', nbins=35)\n",
        "plt.show()"
      ],
      "metadata": {
        "colab": {
          "base_uri": "https://localhost:8080/",
          "height": 301
        },
        "id": "AWxTqyocnm5E",
        "outputId": "44b69802-1da7-448c-9e5b-938dbc4cf54b"
      },
      "execution_count": null,
      "outputs": [
        {
          "output_type": "display_data",
          "data": {
            "text/plain": [
              "<Figure size 1440x288 with 1 Axes>"
            ],
            "image/png": "[encoded data removed]"
          },
          "metadata": {}
        }
      ]
    },
    {
      "cell_type": "code",
      "source": [
        "#checking for outliers with boxplot on POST1999\n",
        "fig = plt.figure() \n",
        "fig.set_size_inches(20,4)\n",
        "sns.boxplot(x = post99_3kr_dropped['weeks-on-board'],notch = True)\n",
        "plt.title(\"Outliers without nulls for Post 1999\")\n",
        "plt.xlim(0, 70)\n",
        "plt.locator_params(axis='x', nbins=35)\n",
        "plt.show()"
      ],
      "metadata": {
        "colab": {
          "base_uri": "https://localhost:8080/",
          "height": 301
        },
        "id": "jcUI2cEpzeII",
        "outputId": "10133c21-542b-4f7e-dac7-3c737c25fe19"
      },
      "execution_count": null,
      "outputs": [
        {
          "output_type": "display_data",
          "data": {
            "text/plain": [
              "<Figure size 1440x288 with 1 Axes>"
            ],
            "image/png": "[encoded data removed]"
          },
          "metadata": {}
        }
      ]
    },
    {
      "cell_type": "markdown",
      "source": [
        "EVEN LOOKING AT BOXPLOTS FOR RANDOM 3K DROPPED SAMPLES SHOWS THAT POST1999 CHARTED LONGER THAN PRE99.  \n",
        "\n",
        "AVG WEEKS-ON-BOARD FOR PRE99 IS CONSISTENTLY AT 8 WEEKS (through many runs).\n",
        "\n",
        "AVG WEEKS-ON-BOARD FOR POST99 IS CONSISTENTLY 11 WEEKS (through many runs)."
      ],
      "metadata": {
        "id": "2nVLrG0O0g3F"
      }
    },
    {
      "cell_type": "markdown",
      "source": [
        "# DROPPING OUTLIERS WITH CALC'D IQR"
      ],
      "metadata": {
        "id": "JKYebI1tJqbD"
      }
    },
    {
      "cell_type": "markdown",
      "source": [
        "going to calculate the upper and lower limits instead of hard qty limit\n"
      ],
      "metadata": {
        "id": "i62dp9qvJzwe"
      }
    },
    {
      "cell_type": "code",
      "source": [
        "pre99_3kr_dropped[['weeks-on-board']].describe()"
      ],
      "metadata": {
        "colab": {
          "base_uri": "https://localhost:8080/",
          "height": 300
        },
        "id": "jpVCTqXKKERN",
        "outputId": "bab7a243-3217-4821-e02b-9aaa95478d06"
      },
      "execution_count": null,
      "outputs": [
        {
          "output_type": "execute_result",
          "data": {
            "text/plain": [
              "       weeks-on-board\n",
              "count      2755.00000\n",
              "mean          9.72196\n",
              "std           6.35574\n",
              "min           2.00000\n",
              "25%           5.00000\n",
              "50%           8.00000\n",
              "75%          14.00000\n",
              "max          46.00000"
            ],
            "text/html": [
              "\n",
              "  <div id=\"df-585d225e-32d0-4bf4-ae3e-132aba32012f\">\n",
              "    <div class=\"colab-df-container\">\n",
              "      <div>\n",
              "<style scoped>\n",
              "    .dataframe tbody tr th:only-of-type {\n",
              "        vertical-align: middle;\n",
              "    }\n",
              "\n",
              "    .dataframe tbody tr th {\n",
              "        vertical-align: top;\n",
              "    }\n",
              "\n",
              "    .dataframe thead th {\n",
              "        text-align: right;\n",
              "    }\n",
              "</style>\n",
              "<table border=\"1\" class=\"dataframe\">\n",
              "  <thead>\n",
              "    <tr style=\"text-align: right;\">\n",
              "      <th></th>\n",
              "      <th>weeks-on-board</th>\n",
              "    </tr>\n",
              "  </thead>\n",
              "  <tbody>\n",
              "    <tr>\n",
              "      <th>count</th>\n",
              "      <td>2755.00000</td>\n",
              "    </tr>\n",
              "    <tr>\n",
              "      <th>mean</th>\n",
              "      <td>9.72196</td>\n",
              "    </tr>\n",
              "    <tr>\n",
              "      <th>std</th>\n",
              "      <td>6.35574</td>\n",
              "    </tr>\n",
              "    <tr>\n",
              "      <th>min</th>\n",
              "      <td>2.00000</td>\n",
              "    </tr>\n",
              "    <tr>\n",
              "      <th>25%</th>\n",
              "      <td>5.00000</td>\n",
              "    </tr>\n",
              "    <tr>\n",
              "      <th>50%</th>\n",
              "      <td>8.00000</td>\n",
              "    </tr>\n",
              "    <tr>\n",
              "      <th>75%</th>\n",
              "      <td>14.00000</td>\n",
              "    </tr>\n",
              "    <tr>\n",
              "      <th>max</th>\n",
              "      <td>46.00000</td>\n",
              "    </tr>\n",
              "  </tbody>\n",
              "</table>\n",
              "</div>\n",
              "      <button class=\"colab-df-convert\" onclick=\"convertToInteractive('df-585d225e-32d0-4bf4-ae3e-132aba32012f')\"\n",
              "              title=\"Convert this dataframe to an interactive table.\"\n",
              "              style=\"display:none;\">\n",
              "        \n",
              "  <svg xmlns=\"http://www.w3.org/2000/svg\" height=\"24px\"viewBox=\"0 0 24 24\"\n",
              "       width=\"24px\">\n",
              "    <path d=\"M0 0h24v24H0V0z\" fill=\"none\"/>\n",
              "    <path d=\"M18.56 5.44l.94 2.06.94-2.06 2.06-.94-2.06-.94-.94-2.06-.94 2.06-2.06.94zm-11 1L8.5 8.5l.94-2.06 2.06-.94-2.06-.94L8.5 2.5l-.94 2.06-2.06.94zm10 10l.94 2.06.94-2.06 2.06-.94-2.06-.94-.94-2.06-.94 2.06-2.06.94z\"/><path d=\"M17.41 7.96l-1.37-1.37c-.4-.4-.92-.59-1.43-.59-.52 0-1.04.2-1.43.59L10.3 9.45l-7.72 7.72c-.78.78-.78 2.05 0 2.83L4 21.41c.39.39.9.59 1.41.59.51 0 1.02-.2 1.41-.59l7.78-7.78 2.81-2.81c.8-.78.8-2.07 0-2.86zM5.41 20L4 18.59l7.72-7.72 1.47 1.35L5.41 20z\"/>\n",
              "  </svg>\n",
              "      </button>\n",
              "      \n",
              "  <style>\n",
              "    .colab-df-container {\n",
              "      display:flex;\n",
              "      flex-wrap:wrap;\n",
              "      gap: 12px;\n",
              "    }\n",
              "\n",
              "    .colab-df-convert {\n",
              "      background-color: #E8F0FE;\n",
              "      border: none;\n",
              "      border-radius: 50%;\n",
              "      cursor: pointer;\n",
              "      display: none;\n",
              "      fill: #1967D2;\n",
              "      height: 32px;\n",
              "      padding: 0 0 0 0;\n",
              "      width: 32px;\n",
              "    }\n",
              "\n",
              "    .colab-df-convert:hover {\n",
              "      background-color: #E2EBFA;\n",
              "      box-shadow: 0px 1px 2px rgba(60, 64, 67, 0.3), 0px 1px 3px 1px rgba(60, 64, 67, 0.15);\n",
              "      fill: #174EA6;\n",
              "    }\n",
              "\n",
              "    [theme=dark] .colab-df-convert {\n",
              "      background-color: #3B4455;\n",
              "      fill: #D2E3FC;\n",
              "    }\n",
              "\n",
              "    [theme=dark] .colab-df-convert:hover {\n",
              "      background-color: #434B5C;\n",
              "      box-shadow: 0px 1px 3px 1px rgba(0, 0, 0, 0.15);\n",
              "      filter: drop-shadow(0px 1px 2px rgba(0, 0, 0, 0.3));\n",
              "      fill: #FFFFFF;\n",
              "    }\n",
              "  </style>\n",
              "\n",
              "      <script>\n",
              "        const buttonEl =\n",
              "          document.querySelector('#df-585d225e-32d0-4bf4-ae3e-132aba32012f button.colab-df-convert');\n",
              "        buttonEl.style.display =\n",
              "          google.colab.kernel.accessAllowed ? 'block' : 'none';\n",
              "\n",
              "        async function convertToInteractive(key) {\n",
              "          const element = document.querySelector('#df-585d225e-32d0-4bf4-ae3e-132aba32012f');\n",
              "          const dataTable =\n",
              "            await google.colab.kernel.invokeFunction('convertToInteractive',\n",
              "                                                     [key], {});\n",
              "          if (!dataTable) return;\n",
              "\n",
              "          const docLinkHtml = 'Like what you see? Visit the ' +\n",
              "            '<a target=\"_blank\" href=https://colab.research.google.com/notebooks/data_table.ipynb>data table notebook</a>'\n",
              "            + ' to learn more about interactive tables.';\n",
              "          element.innerHTML = '';\n",
              "          dataTable['output_type'] = 'display_data';\n",
              "          await google.colab.output.renderOutput(dataTable, element);\n",
              "          const docLink = document.createElement('div');\n",
              "          docLink.innerHTML = docLinkHtml;\n",
              "          element.appendChild(docLink);\n",
              "        }\n",
              "      </script>\n",
              "    </div>\n",
              "  </div>\n",
              "  "
            ]
          },
          "metadata": {},
          "execution_count": 267
        }
      ]
    },
    {
      "cell_type": "code",
      "source": [
        "pre99_3kr_dropped['weeks-on-board'].quantile(0.25)"
      ],
      "metadata": {
        "colab": {
          "base_uri": "https://localhost:8080/"
        },
        "id": "70BpyxYdKxnZ",
        "outputId": "a100caca-ac2d-4939-c06e-07235cf90a79"
      },
      "execution_count": null,
      "outputs": [
        {
          "output_type": "execute_result",
          "data": {
            "text/plain": [
              "5.0"
            ]
          },
          "metadata": {},
          "execution_count": 268
        }
      ]
    },
    {
      "cell_type": "code",
      "source": [
        "pre99_3kr_dropped['weeks-on-board'].quantile(0.75)"
      ],
      "metadata": {
        "colab": {
          "base_uri": "https://localhost:8080/"
        },
        "id": "AXuHX5qLK8a9",
        "outputId": "97024f75-f42d-4c0b-9741-73ae79137194"
      },
      "execution_count": null,
      "outputs": [
        {
          "output_type": "execute_result",
          "data": {
            "text/plain": [
              "14.0"
            ]
          },
          "metadata": {},
          "execution_count": 269
        }
      ]
    },
    {
      "cell_type": "code",
      "source": [
        "Q1 = pre99_3kr_dropped['weeks-on-board'].quantile(0.25)\n",
        "Q3 = pre99_3kr_dropped['weeks-on-board'].quantile(0.75)\n",
        "IQR = Q3 - Q1"
      ],
      "metadata": {
        "id": "FbSbY6GSLCsP"
      },
      "execution_count": null,
      "outputs": []
    },
    {
      "cell_type": "code",
      "source": [
        "IQR"
      ],
      "metadata": {
        "colab": {
          "base_uri": "https://localhost:8080/"
        },
        "id": "0r5jnCOpLRVD",
        "outputId": "239dafaa-e632-4824-8c81-d64f3eecc4b5"
      },
      "execution_count": null,
      "outputs": [
        {
          "output_type": "execute_result",
          "data": {
            "text/plain": [
              "9.0"
            ]
          },
          "metadata": {},
          "execution_count": 271
        }
      ]
    },
    {
      "cell_type": "code",
      "source": [
        "upper_lim = Q1 - 1.5 * IQR\n",
        "lower_lim = Q3 + 1.5 * IQR"
      ],
      "metadata": {
        "id": "5s1Iu6jILU07"
      },
      "execution_count": null,
      "outputs": []
    },
    {
      "cell_type": "code",
      "source": [
        "lower_lim"
      ],
      "metadata": {
        "colab": {
          "base_uri": "https://localhost:8080/"
        },
        "id": "vrGteNQYLeOR",
        "outputId": "7f5ef040-a9de-4adc-e4c9-de307f48b52b"
      },
      "execution_count": null,
      "outputs": [
        {
          "output_type": "execute_result",
          "data": {
            "text/plain": [
              "27.5"
            ]
          },
          "metadata": {},
          "execution_count": 273
        }
      ]
    },
    {
      "cell_type": "code",
      "source": [
        "upper_lim"
      ],
      "metadata": {
        "colab": {
          "base_uri": "https://localhost:8080/"
        },
        "id": "cK6Y1zFbLkRK",
        "outputId": "31ff1da9-ae7d-4ebf-af00-388899fa6486"
      },
      "execution_count": null,
      "outputs": [
        {
          "output_type": "execute_result",
          "data": {
            "text/plain": [
              "-8.5"
            ]
          },
          "metadata": {},
          "execution_count": 274
        }
      ]
    },
    {
      "cell_type": "code",
      "source": [
        "pre99_dropouts_low = (pre99_3kr_dropped['weeks-on-board'] < lower_lim ) #inclusive (gather data less than lower lim wich is 27.5)"
      ],
      "metadata": {
        "id": "XBi2WEGgOw89"
      },
      "execution_count": null,
      "outputs": []
    },
    {
      "cell_type": "code",
      "source": [
        "len(pre99_dropouts_low)\n"
      ],
      "metadata": {
        "colab": {
          "base_uri": "https://localhost:8080/"
        },
        "id": "tLAIcgQXRc5q",
        "outputId": "28861bc5-04ca-4dd7-c672-0bffdc64c202"
      },
      "execution_count": null,
      "outputs": [
        {
          "output_type": "execute_result",
          "data": {
            "text/plain": [
              "2755"
            ]
          },
          "metadata": {},
          "execution_count": 276
        }
      ]
    },
    {
      "cell_type": "code",
      "source": [
        "pre99_dropouts_up = (pre99_3kr_dropped['weeks-on-board'] > upper_lim ) #inclusive (gather data greater than upper lim which is -8.5 - which will be everything because everything is greater than -7 )"
      ],
      "metadata": {
        "id": "eqw8wIZYOxAI"
      },
      "execution_count": null,
      "outputs": []
    },
    {
      "cell_type": "code",
      "source": [
        "len(pre99_dropouts_up)"
      ],
      "metadata": {
        "colab": {
          "base_uri": "https://localhost:8080/"
        },
        "id": "YsuwiSksSU4z",
        "outputId": "48291564-085f-43fd-de09-1ccfa0a84bf4"
      },
      "execution_count": null,
      "outputs": [
        {
          "output_type": "execute_result",
          "data": {
            "text/plain": [
              "2755"
            ]
          },
          "metadata": {},
          "execution_count": 278
        }
      ]
    },
    {
      "cell_type": "code",
      "source": [
        "#this DF has outliers removed\n",
        "pre99_dropouts = pre99_3kr_dropped[(pre99_3kr_dropped['weeks-on-board'] < lower_lim)  & (pre99_3kr_dropped['weeks-on-board'] > upper_lim)]"
      ],
      "metadata": {
        "id": "evULkX-mUeO_"
      },
      "execution_count": null,
      "outputs": []
    },
    {
      "cell_type": "code",
      "source": [
        "len(pre99_dropouts)"
      ],
      "metadata": {
        "colab": {
          "base_uri": "https://localhost:8080/"
        },
        "id": "owEB3PhrUvxd",
        "outputId": "58ba89da-34ec-4422-ea9f-dc116b806107"
      },
      "execution_count": null,
      "outputs": [
        {
          "output_type": "execute_result",
          "data": {
            "text/plain": [
              "2717"
            ]
          },
          "metadata": {},
          "execution_count": 280
        }
      ]
    },
    {
      "cell_type": "code",
      "source": [
        "#all of the outliers\n",
        "pre99_dropouts_exclusive = pre99_3kr_dropped[(pre99_3kr_dropped['weeks-on-board'] > lower_lim)]"
      ],
      "metadata": {
        "id": "VyWMqp-NVHQy"
      },
      "execution_count": null,
      "outputs": []
    },
    {
      "cell_type": "code",
      "source": [
        "len(pre99_dropouts_exclusive)"
      ],
      "metadata": {
        "colab": {
          "base_uri": "https://localhost:8080/"
        },
        "id": "t5cAA_thVHV_",
        "outputId": "d39d0471-9511-4fb3-ebd7-23fec5d439a7"
      },
      "execution_count": null,
      "outputs": [
        {
          "output_type": "execute_result",
          "data": {
            "text/plain": [
              "38"
            ]
          },
          "metadata": {},
          "execution_count": 282
        }
      ]
    },
    {
      "cell_type": "code",
      "source": [
        "fig = plt.figure() \n",
        "fig.set_size_inches(20,4)\n",
        "sns.boxplot(x = pre99_dropouts['weeks-on-board'], notch =  True)\n",
        "plt.title(\"Pre 1999 with nulls and outliers removed after IQR\")\n",
        "plt.xlim(0, 30)\n",
        "plt.locator_params(axis='x', nbins=35)\n",
        "plt.show()"
      ],
      "metadata": {
        "colab": {
          "base_uri": "https://localhost:8080/",
          "height": 301
        },
        "id": "RWsZklFDYUGh",
        "outputId": "2417a06f-bc17-4bd0-d0ec-566a3e350e11"
      },
      "execution_count": null,
      "outputs": [
        {
          "output_type": "display_data",
          "data": {
            "text/plain": [
              "<Figure size 1440x288 with 1 Axes>"
            ],
            "image/png": "[encoded data removed]"
          },
          "metadata": {}
        }
      ]
    },
    {
      "cell_type": "code",
      "source": [
        "#histogram to see if this 'normaled' out any with nulls and outliers removed - IT DID NOT (so it's still a non-normal distro)\n",
        "sns.distplot(pre99_dropouts['weeks-on-board'])\n",
        "plt.title('Pre 1999 \"Weeks on Board\" without nulls or outliers ')\n",
        "plt.show()"
      ],
      "metadata": {
        "colab": {
          "base_uri": "https://localhost:8080/",
          "height": 356
        },
        "id": "NQXZ4AlRF0cH",
        "outputId": "a1917467-3095-4a80-e7c9-de70a4bf8bee"
      },
      "execution_count": null,
      "outputs": [
        {
          "output_type": "stream",
          "name": "stderr",
          "text": [
            "/usr/local/lib/python3.7/dist-packages/seaborn/distributions.py:2619: FutureWarning: `distplot` is a deprecated function and will be removed in a future version. Please adapt your code to use either `displot` (a figure-level function with similar flexibility) or `histplot` (an axes-level function for histograms).\n",
            "  warnings.warn(msg, FutureWarning)\n"
          ]
        },
        {
          "output_type": "display_data",
          "data": {
            "text/plain": [
              "<Figure size 432x288 with 1 Axes>"
            ],
            "image/png": "[encoded data removed]"
          },
          "metadata": {}
        }
      ]
    },
    {
      "cell_type": "code",
      "source": [
        "#calculate for POST99 now\n",
        "post99_3kr_dropped[['weeks-on-board']].describe()"
      ],
      "metadata": {
        "colab": {
          "base_uri": "https://localhost:8080/",
          "height": 300
        },
        "outputId": "51071eca-ebf1-4971-f148-a97793b2c4e5",
        "id": "CJ6lrcy_GlBH"
      },
      "execution_count": null,
      "outputs": [
        {
          "output_type": "execute_result",
          "data": {
            "text/plain": [
              "       weeks-on-board\n",
              "count     2701.000000\n",
              "mean        13.038504\n",
              "std          9.216893\n",
              "min          2.000000\n",
              "25%          6.000000\n",
              "50%         11.000000\n",
              "75%         18.000000\n",
              "max         67.000000"
            ],
            "text/html": [
              "\n",
              "  <div id=\"df-50caaf43-315b-40b8-8c55-a93b02fb9c91\">\n",
              "    <div class=\"colab-df-container\">\n",
              "      <div>\n",
              "<style scoped>\n",
              "    .dataframe tbody tr th:only-of-type {\n",
              "        vertical-align: middle;\n",
              "    }\n",
              "\n",
              "    .dataframe tbody tr th {\n",
              "        vertical-align: top;\n",
              "    }\n",
              "\n",
              "    .dataframe thead th {\n",
              "        text-align: right;\n",
              "    }\n",
              "</style>\n",
              "<table border=\"1\" class=\"dataframe\">\n",
              "  <thead>\n",
              "    <tr style=\"text-align: right;\">\n",
              "      <th></th>\n",
              "      <th>weeks-on-board</th>\n",
              "    </tr>\n",
              "  </thead>\n",
              "  <tbody>\n",
              "    <tr>\n",
              "      <th>count</th>\n",
              "      <td>2701.000000</td>\n",
              "    </tr>\n",
              "    <tr>\n",
              "      <th>mean</th>\n",
              "      <td>13.038504</td>\n",
              "    </tr>\n",
              "    <tr>\n",
              "      <th>std</th>\n",
              "      <td>9.216893</td>\n",
              "    </tr>\n",
              "    <tr>\n",
              "      <th>min</th>\n",
              "      <td>2.000000</td>\n",
              "    </tr>\n",
              "    <tr>\n",
              "      <th>25%</th>\n",
              "      <td>6.000000</td>\n",
              "    </tr>\n",
              "    <tr>\n",
              "      <th>50%</th>\n",
              "      <td>11.000000</td>\n",
              "    </tr>\n",
              "    <tr>\n",
              "      <th>75%</th>\n",
              "      <td>18.000000</td>\n",
              "    </tr>\n",
              "    <tr>\n",
              "      <th>max</th>\n",
              "      <td>67.000000</td>\n",
              "    </tr>\n",
              "  </tbody>\n",
              "</table>\n",
              "</div>\n",
              "      <button class=\"colab-df-convert\" onclick=\"convertToInteractive('df-50caaf43-315b-40b8-8c55-a93b02fb9c91')\"\n",
              "              title=\"Convert this dataframe to an interactive table.\"\n",
              "              style=\"display:none;\">\n",
              "        \n",
              "  <svg xmlns=\"http://www.w3.org/2000/svg\" height=\"24px\"viewBox=\"0 0 24 24\"\n",
              "       width=\"24px\">\n",
              "    <path d=\"M0 0h24v24H0V0z\" fill=\"none\"/>\n",
              "    <path d=\"M18.56 5.44l.94 2.06.94-2.06 2.06-.94-2.06-.94-.94-2.06-.94 2.06-2.06.94zm-11 1L8.5 8.5l.94-2.06 2.06-.94-2.06-.94L8.5 2.5l-.94 2.06-2.06.94zm10 10l.94 2.06.94-2.06 2.06-.94-2.06-.94-.94-2.06-.94 2.06-2.06.94z\"/><path d=\"M17.41 7.96l-1.37-1.37c-.4-.4-.92-.59-1.43-.59-.52 0-1.04.2-1.43.59L10.3 9.45l-7.72 7.72c-.78.78-.78 2.05 0 2.83L4 21.41c.39.39.9.59 1.41.59.51 0 1.02-.2 1.41-.59l7.78-7.78 2.81-2.81c.8-.78.8-2.07 0-2.86zM5.41 20L4 18.59l7.72-7.72 1.47 1.35L5.41 20z\"/>\n",
              "  </svg>\n",
              "      </button>\n",
              "      \n",
              "  <style>\n",
              "    .colab-df-container {\n",
              "      display:flex;\n",
              "      flex-wrap:wrap;\n",
              "      gap: 12px;\n",
              "    }\n",
              "\n",
              "    .colab-df-convert {\n",
              "      background-color: #E8F0FE;\n",
              "      border: none;\n",
              "      border-radius: 50%;\n",
              "      cursor: pointer;\n",
              "      display: none;\n",
              "      fill: #1967D2;\n",
              "      height: 32px;\n",
              "      padding: 0 0 0 0;\n",
              "      width: 32px;\n",
              "    }\n",
              "\n",
              "    .colab-df-convert:hover {\n",
              "      background-color: #E2EBFA;\n",
              "      box-shadow: 0px 1px 2px rgba(60, 64, 67, 0.3), 0px 1px 3px 1px rgba(60, 64, 67, 0.15);\n",
              "      fill: #174EA6;\n",
              "    }\n",
              "\n",
              "    [theme=dark] .colab-df-convert {\n",
              "      background-color: #3B4455;\n",
              "      fill: #D2E3FC;\n",
              "    }\n",
              "\n",
              "    [theme=dark] .colab-df-convert:hover {\n",
              "      background-color: #434B5C;\n",
              "      box-shadow: 0px 1px 3px 1px rgba(0, 0, 0, 0.15);\n",
              "      filter: drop-shadow(0px 1px 2px rgba(0, 0, 0, 0.3));\n",
              "      fill: #FFFFFF;\n",
              "    }\n",
              "  </style>\n",
              "\n",
              "      <script>\n",
              "        const buttonEl =\n",
              "          document.querySelector('#df-50caaf43-315b-40b8-8c55-a93b02fb9c91 button.colab-df-convert');\n",
              "        buttonEl.style.display =\n",
              "          google.colab.kernel.accessAllowed ? 'block' : 'none';\n",
              "\n",
              "        async function convertToInteractive(key) {\n",
              "          const element = document.querySelector('#df-50caaf43-315b-40b8-8c55-a93b02fb9c91');\n",
              "          const dataTable =\n",
              "            await google.colab.kernel.invokeFunction('convertToInteractive',\n",
              "                                                     [key], {});\n",
              "          if (!dataTable) return;\n",
              "\n",
              "          const docLinkHtml = 'Like what you see? Visit the ' +\n",
              "            '<a target=\"_blank\" href=https://colab.research.google.com/notebooks/data_table.ipynb>data table notebook</a>'\n",
              "            + ' to learn more about interactive tables.';\n",
              "          element.innerHTML = '';\n",
              "          dataTable['output_type'] = 'display_data';\n",
              "          await google.colab.output.renderOutput(dataTable, element);\n",
              "          const docLink = document.createElement('div');\n",
              "          docLink.innerHTML = docLinkHtml;\n",
              "          element.appendChild(docLink);\n",
              "        }\n",
              "      </script>\n",
              "    </div>\n",
              "  </div>\n",
              "  "
            ]
          },
          "metadata": {},
          "execution_count": 285
        }
      ]
    },
    {
      "cell_type": "code",
      "source": [
        "post99_3kr_dropped['weeks-on-board'].quantile(0.25)"
      ],
      "metadata": {
        "colab": {
          "base_uri": "https://localhost:8080/",
          "height": 165
        },
        "outputId": "14098139-dafa-4366-d6ca-ea685be9ff9b",
        "id": "VsdmKqEwGlBH"
      },
      "execution_count": null,
      "outputs": [
        {
          "output_type": "error",
          "ename": "NameError",
          "evalue": "ignored",
          "traceback": [
            "\u001b[0;31m---------------------------------------------------------------------------\u001b[0m",
            "\u001b[0;31mNameError\u001b[0m                                 Traceback (most recent call last)",
            "\u001b[0;32m<ipython-input-1-b00d2c0ff77c>\u001b[0m in \u001b[0;36m<module>\u001b[0;34m\u001b[0m\n\u001b[0;32m----> 1\u001b[0;31m \u001b[0mpost99_3kr_dropped\u001b[0m\u001b[0;34m[\u001b[0m\u001b[0;34m'weeks-on-board'\u001b[0m\u001b[0;34m]\u001b[0m\u001b[0;34m.\u001b[0m\u001b[0mquantile\u001b[0m\u001b[0;34m(\u001b[0m\u001b[0;36m0.25\u001b[0m\u001b[0;34m)\u001b[0m\u001b[0;34m\u001b[0m\u001b[0;34m\u001b[0m\u001b[0m\n\u001b[0m",
            "\u001b[0;31mNameError\u001b[0m: name 'post99_3kr_dropped' is not defined"
          ]
        }
      ]
    },
    {
      "cell_type": "code",
      "source": [
        "post99_3kr_dropped['weeks-on-board'].quantile(0.75)"
      ],
      "metadata": {
        "colab": {
          "base_uri": "https://localhost:8080/"
        },
        "outputId": "b9792b58-15d0-4d49-c440-6dc506feece6",
        "id": "GJ9mQMT9GlBH"
      },
      "execution_count": null,
      "outputs": [
        {
          "output_type": "execute_result",
          "data": {
            "text/plain": [
              "18.0"
            ]
          },
          "metadata": {},
          "execution_count": 287
        }
      ]
    },
    {
      "cell_type": "code",
      "source": [
        "Q1 = post99_3kr_dropped['weeks-on-board'].quantile(0.25)\n",
        "Q3 = post99_3kr_dropped['weeks-on-board'].quantile(0.75)\n",
        "IQR = Q3 - Q1"
      ],
      "metadata": {
        "id": "A1yFOOyRGlBH"
      },
      "execution_count": null,
      "outputs": []
    },
    {
      "cell_type": "code",
      "source": [
        "IQR"
      ],
      "metadata": {
        "colab": {
          "base_uri": "https://localhost:8080/"
        },
        "outputId": "5d03e55b-9d92-47f4-bd63-9e14caa0d191",
        "id": "CQ_fKLy0GlBI"
      },
      "execution_count": null,
      "outputs": [
        {
          "output_type": "execute_result",
          "data": {
            "text/plain": [
              "12.0"
            ]
          },
          "metadata": {},
          "execution_count": 289
        }
      ]
    },
    {
      "cell_type": "code",
      "source": [
        "upper_lim = Q1 - 1.5 * IQR\n",
        "lower_lim = Q3 + 1.3* IQR #i addjusted the limit here to include the 34s and 35s I kept catching"
      ],
      "metadata": {
        "id": "vV5h8AMdGlBI"
      },
      "execution_count": null,
      "outputs": []
    },
    {
      "cell_type": "code",
      "source": [
        "lower_lim"
      ],
      "metadata": {
        "colab": {
          "base_uri": "https://localhost:8080/"
        },
        "outputId": "87dc8b85-2f22-4ea4-aff1-71e006aedd52",
        "id": "V6iZNRajGlBI"
      },
      "execution_count": null,
      "outputs": [
        {
          "output_type": "execute_result",
          "data": {
            "text/plain": [
              "33.6"
            ]
          },
          "metadata": {},
          "execution_count": 291
        }
      ]
    },
    {
      "cell_type": "code",
      "source": [
        "upper_lim"
      ],
      "metadata": {
        "colab": {
          "base_uri": "https://localhost:8080/"
        },
        "outputId": "8ccf23a3-9171-464d-9b14-e92acf6dfb40",
        "id": "Uc1Z6T1yGlBI"
      },
      "execution_count": null,
      "outputs": [
        {
          "output_type": "execute_result",
          "data": {
            "text/plain": [
              "-12.0"
            ]
          },
          "metadata": {},
          "execution_count": 292
        }
      ]
    },
    {
      "cell_type": "code",
      "source": [
        "post99_dropouts_low = (post99_3kr_dropped['weeks-on-board'] < lower_lim ) #inclusive (gather data less than lower lim wich is 27.5)"
      ],
      "metadata": {
        "id": "cFeAMUxEGlBI"
      },
      "execution_count": null,
      "outputs": []
    },
    {
      "cell_type": "code",
      "source": [
        "len(post99_dropouts_low)\n"
      ],
      "metadata": {
        "colab": {
          "base_uri": "https://localhost:8080/"
        },
        "outputId": "436b5fe4-c426-44ec-b5d0-0beb6e4d28ac",
        "id": "-WMAq82XGlBI"
      },
      "execution_count": null,
      "outputs": [
        {
          "output_type": "execute_result",
          "data": {
            "text/plain": [
              "2701"
            ]
          },
          "metadata": {},
          "execution_count": 294
        }
      ]
    },
    {
      "cell_type": "code",
      "source": [
        "post99_dropouts_up = (post99_3kr_dropped['weeks-on-board'] > upper_lim ) #inclusive (gather data greater than upper lim which is -10.5 - which will be everything because everything is greater than -7 )"
      ],
      "metadata": {
        "id": "YVs5-DHlGlBI"
      },
      "execution_count": null,
      "outputs": []
    },
    {
      "cell_type": "code",
      "source": [
        "len(post99_dropouts_up)"
      ],
      "metadata": {
        "colab": {
          "base_uri": "https://localhost:8080/"
        },
        "outputId": "ad60da5b-44b8-44a6-f53e-46b7befb0edc",
        "id": "mKH-nk6qGlBI"
      },
      "execution_count": null,
      "outputs": [
        {
          "output_type": "execute_result",
          "data": {
            "text/plain": [
              "2701"
            ]
          },
          "metadata": {},
          "execution_count": 296
        }
      ]
    },
    {
      "cell_type": "code",
      "source": [
        "#this DF has outliers removed\n",
        "post99_dropouts= post99_3kr_dropped[(post99_3kr_dropped['weeks-on-board'] < lower_lim)  & (post99_3kr_dropped['weeks-on-board'] > upper_lim)]"
      ],
      "metadata": {
        "id": "Qji7It5IGlBJ"
      },
      "execution_count": null,
      "outputs": []
    },
    {
      "cell_type": "code",
      "source": [
        "len(post99_dropouts)"
      ],
      "metadata": {
        "colab": {
          "base_uri": "https://localhost:8080/"
        },
        "outputId": "542f1408-27d5-4982-9815-97d84643a936",
        "id": "Vr4ShLDmGlBJ"
      },
      "execution_count": null,
      "outputs": [
        {
          "output_type": "execute_result",
          "data": {
            "text/plain": [
              "2593"
            ]
          },
          "metadata": {},
          "execution_count": 298
        }
      ]
    },
    {
      "cell_type": "code",
      "source": [
        "#all of the outliers\n",
        "post99_dropouts_exclusive = post99_3kr_dropped[(post99_3kr_dropped['weeks-on-board'] > lower_lim)]"
      ],
      "metadata": {
        "id": "jhfKCku5GlBJ"
      },
      "execution_count": null,
      "outputs": []
    },
    {
      "cell_type": "code",
      "source": [
        "len(post99_dropouts_exclusive)"
      ],
      "metadata": {
        "colab": {
          "base_uri": "https://localhost:8080/"
        },
        "outputId": "42b78255-7d65-4d21-83e6-0636e854ebee",
        "id": "xeEKhESbGlBJ"
      },
      "execution_count": null,
      "outputs": [
        {
          "output_type": "execute_result",
          "data": {
            "text/plain": [
              "108"
            ]
          },
          "metadata": {},
          "execution_count": 300
        }
      ]
    },
    {
      "cell_type": "code",
      "source": [
        "fig = plt.figure() \n",
        "fig.set_size_inches(20,4)\n",
        "sns.boxplot(x = post99_dropouts['weeks-on-board'], notch = True)\n",
        "plt.title(\"Post 1999 with nulls and outliers removed after IQR\")\n",
        "plt.xlim(0, 40)\n",
        "plt.locator_params(axis='x', nbins=35)\n",
        "plt.show()"
      ],
      "metadata": {
        "colab": {
          "base_uri": "https://localhost:8080/",
          "height": 301
        },
        "outputId": "7d557fa8-9c43-45ce-a515-e6a5fe0f2fab",
        "id": "1ktopCjYGlBJ"
      },
      "execution_count": null,
      "outputs": [
        {
          "output_type": "display_data",
          "data": {
            "text/plain": [
              "<Figure size 1440x288 with 1 Axes>"
            ],
            "image/png": "[encoded data removed]"
          },
          "metadata": {}
        }
      ]
    },
    {
      "cell_type": "code",
      "source": [
        "#histogram to see if this 'normaled' out any with nulls and outliers removed - IT DID NOT (so it's still a non-normal distro)\n",
        "sns.distplot(post99_dropouts['weeks-on-board'])\n",
        "plt.title('Post 1999 \"Weeks on Board\" without nulls or outliers ')\n",
        "plt.show()"
      ],
      "metadata": {
        "colab": {
          "base_uri": "https://localhost:8080/",
          "height": 356
        },
        "outputId": "94cca06e-6670-494d-d482-e443a4b3b682",
        "id": "Pfe24spyGlBJ"
      },
      "execution_count": null,
      "outputs": [
        {
          "output_type": "stream",
          "name": "stderr",
          "text": [
            "/usr/local/lib/python3.7/dist-packages/seaborn/distributions.py:2619: FutureWarning: `distplot` is a deprecated function and will be removed in a future version. Please adapt your code to use either `displot` (a figure-level function with similar flexibility) or `histplot` (an axes-level function for histograms).\n",
            "  warnings.warn(msg, FutureWarning)\n"
          ]
        },
        {
          "output_type": "display_data",
          "data": {
            "text/plain": [
              "<Figure size 432x288 with 1 Axes>"
            ],
            "image/png": "[encoded data removed]"
          },
          "metadata": {}
        }
      ]
    },
    {
      "cell_type": "code",
      "source": [
        "stats.shapiro(post99_dropouts['weeks-on-board'])"
      ],
      "metadata": {
        "colab": {
          "base_uri": "https://localhost:8080/"
        },
        "id": "inqqzk4yLqPV",
        "outputId": "8e4ebecb-aa1e-4808-fb21-c07642bf5fdd"
      },
      "execution_count": null,
      "outputs": [
        {
          "output_type": "execute_result",
          "data": {
            "text/plain": [
              "ShapiroResult(statistic=0.9447929859161377, pvalue=4.0655877074036916e-30)"
            ]
          },
          "metadata": {},
          "execution_count": 303
        }
      ]
    },
    {
      "cell_type": "code",
      "source": [
        "stats.shapiro(pre99_dropouts['weeks-on-board'])"
      ],
      "metadata": {
        "colab": {
          "base_uri": "https://localhost:8080/"
        },
        "id": "v19qEvuFLqUL",
        "outputId": "53ff04f5-7280-40b8-cb7e-18f39b3510cf"
      },
      "execution_count": null,
      "outputs": [
        {
          "output_type": "execute_result",
          "data": {
            "text/plain": [
              "ShapiroResult(statistic=0.9367316961288452, pvalue=1.5425027889322065e-32)"
            ]
          },
          "metadata": {},
          "execution_count": 304
        }
      ]
    },
    {
      "cell_type": "markdown",
      "source": [
        "SHAPIRO INDICATES NOT NORMAL for pre99_dropouts and post99_dropouts - LOW P-VALUE (\"This is a statistical test used to infer whether a variable's distribution is significantly different than normal.\")"
      ],
      "metadata": {
        "id": "zDmRCnM9L-ce"
      }
    },
    {
      "cell_type": "code",
      "source": [
        "stats.describe(post99_dropouts['weeks-on-board'])\n",
        "#negative kurtosis here probably indicates it's really platykurtic and not normal"
      ],
      "metadata": {
        "colab": {
          "base_uri": "https://localhost:8080/"
        },
        "id": "-aiRqaYTMH_4",
        "outputId": "715921ed-6988-4507-88e1-145f5485b3f8"
      },
      "execution_count": null,
      "outputs": [
        {
          "output_type": "error",
          "ename": "NameError",
          "evalue": "ignored",
          "traceback": [
            "\u001b[0;31m---------------------------------------------------------------------------\u001b[0m",
            "\u001b[0;31mNameError\u001b[0m                                 Traceback (most recent call last)",
            "\u001b[0;32m<ipython-input-1-31a603a39fed>\u001b[0m in \u001b[0;36m<module>\u001b[0;34m\u001b[0m\n\u001b[0;32m----> 1\u001b[0;31m \u001b[0mstats\u001b[0m\u001b[0;34m.\u001b[0m\u001b[0mdescribe\u001b[0m\u001b[0;34m(\u001b[0m\u001b[0mpost99_dropouts\u001b[0m\u001b[0;34m[\u001b[0m\u001b[0;34m'weeks-on-board'\u001b[0m\u001b[0;34m]\u001b[0m\u001b[0;34m)\u001b[0m\u001b[0;34m\u001b[0m\u001b[0;34m\u001b[0m\u001b[0m\n\u001b[0m\u001b[1;32m      2\u001b[0m \u001b[0;31m#negative kurtosis here probably indicates it's really platykurtic and not normal\u001b[0m\u001b[0;34m\u001b[0m\u001b[0;34m\u001b[0m\u001b[0;34m\u001b[0m\u001b[0m\n",
            "\u001b[0;31mNameError\u001b[0m: name 'stats' is not defined"
          ]
        }
      ]
    },
    {
      "cell_type": "code",
      "source": [
        "stats.describe(pre99_dropouts['weeks-on-board'])"
      ],
      "metadata": {
        "colab": {
          "base_uri": "https://localhost:8080/"
        },
        "id": "sw7eOIzJNGug",
        "outputId": "6d4f8475-4030-43f7-bb0a-aab974c1b4a5"
      },
      "execution_count": null,
      "outputs": [
        {
          "output_type": "execute_result",
          "data": {
            "text/plain": [
              "DescribeResult(nobs=2717, minmax=(2, 27), mean=9.398601398601398, variance=33.07043986940894, skewness=0.6803864467314997, kurtosis=-0.3117797132489315)"
            ]
          },
          "metadata": {},
          "execution_count": 306
        }
      ]
    },
    {
      "cell_type": "markdown",
      "source": [
        "# DROPPING OUTLIERS (manual calc with hard qty limit (26 and 32)\n"
      ],
      "metadata": {
        "id": "kNnHYHQK5-f8"
      }
    },
    {
      "cell_type": "code",
      "source": [
        "## COLLECTING JUST THE PRE's OF 26 WEEKS OR LESS\n",
        "pre_dropouts_manual= pre99_3kr_dropped[(pre99_3kr_dropped['weeks-on-board']<26) & (pre99_3kr_dropped['date'] <= '1998-12-31') & (pre99_3kr_dropped['date'] >= '1976-01-01')]\n"
      ],
      "metadata": {
        "id": "_z8uMPf3BXxy"
      },
      "execution_count": null,
      "outputs": []
    },
    {
      "cell_type": "code",
      "source": [
        "pre_dropouts_manual.head()"
      ],
      "metadata": {
        "colab": {
          "base_uri": "https://localhost:8080/",
          "height": 206
        },
        "id": "GDJNXVwqFCs1",
        "outputId": "e209a1f4-79a2-4bf9-ebc4-a0dc33e1da8c"
      },
      "execution_count": null,
      "outputs": [
        {
          "output_type": "execute_result",
          "data": {
            "text/plain": [
              "              date  rank                            song  \\\n",
              "219600  1979-10-06     1                        Sad Eyes   \n",
              "143842  1994-04-16    43  Hey D.J. (From \"Mi Vida Loca\")   \n",
              "163159  1990-08-04    60                    Ready Or Not   \n",
              "166754  1989-11-25    55                   It's No Crime   \n",
              "150195  1993-01-30    96           This Could Be The One   \n",
              "\n",
              "                        artist  last-week  peak-rank  weeks-on-board  \n",
              "219600             Robert John        2.0          1              21  \n",
              "143842  Lighter Shade Of Brown       51.0         43               9  \n",
              "163159                 After 7       45.0          7              19  \n",
              "166754                Babyface       42.0          7              16  \n",
              "150195             Bad Company       91.0         87               7  "
            ],
            "text/html": [
              "\n",
              "  <div id=\"df-7a51e976-877e-4a19-b171-56e44bef5def\">\n",
              "    <div class=\"colab-df-container\">\n",
              "      <div>\n",
              "<style scoped>\n",
              "    .dataframe tbody tr th:only-of-type {\n",
              "        vertical-align: middle;\n",
              "    }\n",
              "\n",
              "    .dataframe tbody tr th {\n",
              "        vertical-align: top;\n",
              "    }\n",
              "\n",
              "    .dataframe thead th {\n",
              "        text-align: right;\n",
              "    }\n",
              "</style>\n",
              "<table border=\"1\" class=\"dataframe\">\n",
              "  <thead>\n",
              "    <tr style=\"text-align: right;\">\n",
              "      <th></th>\n",
              "      <th>date</th>\n",
              "      <th>rank</th>\n",
              "      <th>song</th>\n",
              "      <th>artist</th>\n",
              "      <th>last-week</th>\n",
              "      <th>peak-rank</th>\n",
              "      <th>weeks-on-board</th>\n",
              "    </tr>\n",
              "  </thead>\n",
              "  <tbody>\n",
              "    <tr>\n",
              "      <th>219600</th>\n",
              "      <td>1979-10-06</td>\n",
              "      <td>1</td>\n",
              "      <td>Sad Eyes</td>\n",
              "      <td>Robert John</td>\n",
              "      <td>2.0</td>\n",
              "      <td>1</td>\n",
              "      <td>21</td>\n",
              "    </tr>\n",
              "    <tr>\n",
              "      <th>143842</th>\n",
              "      <td>1994-04-16</td>\n",
              "      <td>43</td>\n",
              "      <td>Hey D.J. (From \"Mi Vida Loca\")</td>\n",
              "      <td>Lighter Shade Of Brown</td>\n",
              "      <td>51.0</td>\n",
              "      <td>43</td>\n",
              "      <td>9</td>\n",
              "    </tr>\n",
              "    <tr>\n",
              "      <th>163159</th>\n",
              "      <td>1990-08-04</td>\n",
              "      <td>60</td>\n",
              "      <td>Ready Or Not</td>\n",
              "      <td>After 7</td>\n",
              "      <td>45.0</td>\n",
              "      <td>7</td>\n",
              "      <td>19</td>\n",
              "    </tr>\n",
              "    <tr>\n",
              "      <th>166754</th>\n",
              "      <td>1989-11-25</td>\n",
              "      <td>55</td>\n",
              "      <td>It's No Crime</td>\n",
              "      <td>Babyface</td>\n",
              "      <td>42.0</td>\n",
              "      <td>7</td>\n",
              "      <td>16</td>\n",
              "    </tr>\n",
              "    <tr>\n",
              "      <th>150195</th>\n",
              "      <td>1993-01-30</td>\n",
              "      <td>96</td>\n",
              "      <td>This Could Be The One</td>\n",
              "      <td>Bad Company</td>\n",
              "      <td>91.0</td>\n",
              "      <td>87</td>\n",
              "      <td>7</td>\n",
              "    </tr>\n",
              "  </tbody>\n",
              "</table>\n",
              "</div>\n",
              "      <button class=\"colab-df-convert\" onclick=\"convertToInteractive('df-7a51e976-877e-4a19-b171-56e44bef5def')\"\n",
              "              title=\"Convert this dataframe to an interactive table.\"\n",
              "              style=\"display:none;\">\n",
              "        \n",
              "  <svg xmlns=\"http://www.w3.org/2000/svg\" height=\"24px\"viewBox=\"0 0 24 24\"\n",
              "       width=\"24px\">\n",
              "    <path d=\"M0 0h24v24H0V0z\" fill=\"none\"/>\n",
              "    <path d=\"M18.56 5.44l.94 2.06.94-2.06 2.06-.94-2.06-.94-.94-2.06-.94 2.06-2.06.94zm-11 1L8.5 8.5l.94-2.06 2.06-.94-2.06-.94L8.5 2.5l-.94 2.06-2.06.94zm10 10l.94 2.06.94-2.06 2.06-.94-2.06-.94-.94-2.06-.94 2.06-2.06.94z\"/><path d=\"M17.41 7.96l-1.37-1.37c-.4-.4-.92-.59-1.43-.59-.52 0-1.04.2-1.43.59L10.3 9.45l-7.72 7.72c-.78.78-.78 2.05 0 2.83L4 21.41c.39.39.9.59 1.41.59.51 0 1.02-.2 1.41-.59l7.78-7.78 2.81-2.81c.8-.78.8-2.07 0-2.86zM5.41 20L4 18.59l7.72-7.72 1.47 1.35L5.41 20z\"/>\n",
              "  </svg>\n",
              "      </button>\n",
              "      \n",
              "  <style>\n",
              "    .colab-df-container {\n",
              "      display:flex;\n",
              "      flex-wrap:wrap;\n",
              "      gap: 12px;\n",
              "    }\n",
              "\n",
              "    .colab-df-convert {\n",
              "      background-color: #E8F0FE;\n",
              "      border: none;\n",
              "      border-radius: 50%;\n",
              "      cursor: pointer;\n",
              "      display: none;\n",
              "      fill: #1967D2;\n",
              "      height: 32px;\n",
              "      padding: 0 0 0 0;\n",
              "      width: 32px;\n",
              "    }\n",
              "\n",
              "    .colab-df-convert:hover {\n",
              "      background-color: #E2EBFA;\n",
              "      box-shadow: 0px 1px 2px rgba(60, 64, 67, 0.3), 0px 1px 3px 1px rgba(60, 64, 67, 0.15);\n",
              "      fill: #174EA6;\n",
              "    }\n",
              "\n",
              "    [theme=dark] .colab-df-convert {\n",
              "      background-color: #3B4455;\n",
              "      fill: #D2E3FC;\n",
              "    }\n",
              "\n",
              "    [theme=dark] .colab-df-convert:hover {\n",
              "      background-color: #434B5C;\n",
              "      box-shadow: 0px 1px 3px 1px rgba(0, 0, 0, 0.15);\n",
              "      filter: drop-shadow(0px 1px 2px rgba(0, 0, 0, 0.3));\n",
              "      fill: #FFFFFF;\n",
              "    }\n",
              "  </style>\n",
              "\n",
              "      <script>\n",
              "        const buttonEl =\n",
              "          document.querySelector('#df-7a51e976-877e-4a19-b171-56e44bef5def button.colab-df-convert');\n",
              "        buttonEl.style.display =\n",
              "          google.colab.kernel.accessAllowed ? 'block' : 'none';\n",
              "\n",
              "        async function convertToInteractive(key) {\n",
              "          const element = document.querySelector('#df-7a51e976-877e-4a19-b171-56e44bef5def');\n",
              "          const dataTable =\n",
              "            await google.colab.kernel.invokeFunction('convertToInteractive',\n",
              "                                                     [key], {});\n",
              "          if (!dataTable) return;\n",
              "\n",
              "          const docLinkHtml = 'Like what you see? Visit the ' +\n",
              "            '<a target=\"_blank\" href=https://colab.research.google.com/notebooks/data_table.ipynb>data table notebook</a>'\n",
              "            + ' to learn more about interactive tables.';\n",
              "          element.innerHTML = '';\n",
              "          dataTable['output_type'] = 'display_data';\n",
              "          await google.colab.output.renderOutput(dataTable, element);\n",
              "          const docLink = document.createElement('div');\n",
              "          docLink.innerHTML = docLinkHtml;\n",
              "          element.appendChild(docLink);\n",
              "        }\n",
              "      </script>\n",
              "    </div>\n",
              "  </div>\n",
              "  "
            ]
          },
          "metadata": {},
          "execution_count": 308
        }
      ]
    },
    {
      "cell_type": "code",
      "source": [
        "#checking for outliers with boxplot PRE 1999 with no outliers\n",
        "fig = plt.figure() \n",
        "fig.set_size_inches(20,4)\n",
        "sns.boxplot(x = pre_dropouts_manual['weeks-on-board'],notch = True)\n",
        "plt.xlim(0, 40)\n",
        "plt.locator_params(axis='x', nbins=35)\n",
        "plt.show()"
      ],
      "metadata": {
        "colab": {
          "base_uri": "https://localhost:8080/",
          "height": 285
        },
        "id": "uNI9OVSqEoCu",
        "outputId": "0128a7ef-3096-4aa6-96c6-68ecaa2e7c79"
      },
      "execution_count": null,
      "outputs": [
        {
          "output_type": "display_data",
          "data": {
            "text/plain": [
              "<Figure size 1440x288 with 1 Axes>"
            ],
            "image/png": "[encoded data removed]"
          },
          "metadata": {}
        }
      ]
    },
    {
      "cell_type": "code",
      "source": [
        "post_dropouts_manual = post99_3kr_dropped[(post99_3kr_dropped['weeks-on-board'] < 32) & (post99_3kr_dropped['date'] <= '2022-01-01') & (post99_3kr_dropped['date'] >= '1999-01-01')]"
      ],
      "metadata": {
        "id": "ol_5DldxGpJc"
      },
      "execution_count": null,
      "outputs": []
    },
    {
      "cell_type": "code",
      "source": [
        "post_dropouts_manual.head()"
      ],
      "metadata": {
        "colab": {
          "base_uri": "https://localhost:8080/",
          "height": 206
        },
        "id": "q6LyJYdrGxgT",
        "outputId": "ffd993ce-84f0-43e1-ed48-f08ed9379f0d"
      },
      "execution_count": null,
      "outputs": [
        {
          "output_type": "execute_result",
          "data": {
            "text/plain": [
              "             date  rank                        song                artist  \\\n",
              "97953  2003-02-01    54                     Disease       matchbox twenty   \n",
              "18715  2018-04-07    16               All The Stars  Kendrick Lamar & SZA   \n",
              "67479  2008-12-06    80          Waitin' On A Woman          Brad Paisley   \n",
              "43350  2013-07-20    51               See You Again      Carrie Underwood   \n",
              "58285  2010-09-11    86  The Man Who Can't Be Moved            The Script   \n",
              "\n",
              "       last-week  peak-rank  weeks-on-board  \n",
              "97953       51.0         29              16  \n",
              "18715       14.0          7              12  \n",
              "67479       66.0         44              20  \n",
              "43350       52.0         51              10  \n",
              "58285       90.0         86               4  "
            ],
            "text/html": [
              "\n",
              "  <div id=\"df-4a6ccb58-1201-40cd-8bd9-beb1fb4b0497\">\n",
              "    <div class=\"colab-df-container\">\n",
              "      <div>\n",
              "<style scoped>\n",
              "    .dataframe tbody tr th:only-of-type {\n",
              "        vertical-align: middle;\n",
              "    }\n",
              "\n",
              "    .dataframe tbody tr th {\n",
              "        vertical-align: top;\n",
              "    }\n",
              "\n",
              "    .dataframe thead th {\n",
              "        text-align: right;\n",
              "    }\n",
              "</style>\n",
              "<table border=\"1\" class=\"dataframe\">\n",
              "  <thead>\n",
              "    <tr style=\"text-align: right;\">\n",
              "      <th></th>\n",
              "      <th>date</th>\n",
              "      <th>rank</th>\n",
              "      <th>song</th>\n",
              "      <th>artist</th>\n",
              "      <th>last-week</th>\n",
              "      <th>peak-rank</th>\n",
              "      <th>weeks-on-board</th>\n",
              "    </tr>\n",
              "  </thead>\n",
              "  <tbody>\n",
              "    <tr>\n",
              "      <th>97953</th>\n",
              "      <td>2003-02-01</td>\n",
              "      <td>54</td>\n",
              "      <td>Disease</td>\n",
              "      <td>matchbox twenty</td>\n",
              "      <td>51.0</td>\n",
              "      <td>29</td>\n",
              "      <td>16</td>\n",
              "    </tr>\n",
              "    <tr>\n",
              "      <th>18715</th>\n",
              "      <td>2018-04-07</td>\n",
              "      <td>16</td>\n",
              "      <td>All The Stars</td>\n",
              "      <td>Kendrick Lamar &amp; SZA</td>\n",
              "      <td>14.0</td>\n",
              "      <td>7</td>\n",
              "      <td>12</td>\n",
              "    </tr>\n",
              "    <tr>\n",
              "      <th>67479</th>\n",
              "      <td>2008-12-06</td>\n",
              "      <td>80</td>\n",
              "      <td>Waitin' On A Woman</td>\n",
              "      <td>Brad Paisley</td>\n",
              "      <td>66.0</td>\n",
              "      <td>44</td>\n",
              "      <td>20</td>\n",
              "    </tr>\n",
              "    <tr>\n",
              "      <th>43350</th>\n",
              "      <td>2013-07-20</td>\n",
              "      <td>51</td>\n",
              "      <td>See You Again</td>\n",
              "      <td>Carrie Underwood</td>\n",
              "      <td>52.0</td>\n",
              "      <td>51</td>\n",
              "      <td>10</td>\n",
              "    </tr>\n",
              "    <tr>\n",
              "      <th>58285</th>\n",
              "      <td>2010-09-11</td>\n",
              "      <td>86</td>\n",
              "      <td>The Man Who Can't Be Moved</td>\n",
              "      <td>The Script</td>\n",
              "      <td>90.0</td>\n",
              "      <td>86</td>\n",
              "      <td>4</td>\n",
              "    </tr>\n",
              "  </tbody>\n",
              "</table>\n",
              "</div>\n",
              "      <button class=\"colab-df-convert\" onclick=\"convertToInteractive('df-4a6ccb58-1201-40cd-8bd9-beb1fb4b0497')\"\n",
              "              title=\"Convert this dataframe to an interactive table.\"\n",
              "              style=\"display:none;\">\n",
              "        \n",
              "  <svg xmlns=\"http://www.w3.org/2000/svg\" height=\"24px\"viewBox=\"0 0 24 24\"\n",
              "       width=\"24px\">\n",
              "    <path d=\"M0 0h24v24H0V0z\" fill=\"none\"/>\n",
              "    <path d=\"M18.56 5.44l.94 2.06.94-2.06 2.06-.94-2.06-.94-.94-2.06-.94 2.06-2.06.94zm-11 1L8.5 8.5l.94-2.06 2.06-.94-2.06-.94L8.5 2.5l-.94 2.06-2.06.94zm10 10l.94 2.06.94-2.06 2.06-.94-2.06-.94-.94-2.06-.94 2.06-2.06.94z\"/><path d=\"M17.41 7.96l-1.37-1.37c-.4-.4-.92-.59-1.43-.59-.52 0-1.04.2-1.43.59L10.3 9.45l-7.72 7.72c-.78.78-.78 2.05 0 2.83L4 21.41c.39.39.9.59 1.41.59.51 0 1.02-.2 1.41-.59l7.78-7.78 2.81-2.81c.8-.78.8-2.07 0-2.86zM5.41 20L4 18.59l7.72-7.72 1.47 1.35L5.41 20z\"/>\n",
              "  </svg>\n",
              "      </button>\n",
              "      \n",
              "  <style>\n",
              "    .colab-df-container {\n",
              "      display:flex;\n",
              "      flex-wrap:wrap;\n",
              "      gap: 12px;\n",
              "    }\n",
              "\n",
              "    .colab-df-convert {\n",
              "      background-color: #E8F0FE;\n",
              "      border: none;\n",
              "      border-radius: 50%;\n",
              "      cursor: pointer;\n",
              "      display: none;\n",
              "      fill: #1967D2;\n",
              "      height: 32px;\n",
              "      padding: 0 0 0 0;\n",
              "      width: 32px;\n",
              "    }\n",
              "\n",
              "    .colab-df-convert:hover {\n",
              "      background-color: #E2EBFA;\n",
              "      box-shadow: 0px 1px 2px rgba(60, 64, 67, 0.3), 0px 1px 3px 1px rgba(60, 64, 67, 0.15);\n",
              "      fill: #174EA6;\n",
              "    }\n",
              "\n",
              "    [theme=dark] .colab-df-convert {\n",
              "      background-color: #3B4455;\n",
              "      fill: #D2E3FC;\n",
              "    }\n",
              "\n",
              "    [theme=dark] .colab-df-convert:hover {\n",
              "      background-color: #434B5C;\n",
              "      box-shadow: 0px 1px 3px 1px rgba(0, 0, 0, 0.15);\n",
              "      filter: drop-shadow(0px 1px 2px rgba(0, 0, 0, 0.3));\n",
              "      fill: #FFFFFF;\n",
              "    }\n",
              "  </style>\n",
              "\n",
              "      <script>\n",
              "        const buttonEl =\n",
              "          document.querySelector('#df-4a6ccb58-1201-40cd-8bd9-beb1fb4b0497 button.colab-df-convert');\n",
              "        buttonEl.style.display =\n",
              "          google.colab.kernel.accessAllowed ? 'block' : 'none';\n",
              "\n",
              "        async function convertToInteractive(key) {\n",
              "          const element = document.querySelector('#df-4a6ccb58-1201-40cd-8bd9-beb1fb4b0497');\n",
              "          const dataTable =\n",
              "            await google.colab.kernel.invokeFunction('convertToInteractive',\n",
              "                                                     [key], {});\n",
              "          if (!dataTable) return;\n",
              "\n",
              "          const docLinkHtml = 'Like what you see? Visit the ' +\n",
              "            '<a target=\"_blank\" href=https://colab.research.google.com/notebooks/data_table.ipynb>data table notebook</a>'\n",
              "            + ' to learn more about interactive tables.';\n",
              "          element.innerHTML = '';\n",
              "          dataTable['output_type'] = 'display_data';\n",
              "          await google.colab.output.renderOutput(dataTable, element);\n",
              "          const docLink = document.createElement('div');\n",
              "          docLink.innerHTML = docLinkHtml;\n",
              "          element.appendChild(docLink);\n",
              "        }\n",
              "      </script>\n",
              "    </div>\n",
              "  </div>\n",
              "  "
            ]
          },
          "metadata": {},
          "execution_count": 311
        }
      ]
    },
    {
      "cell_type": "code",
      "source": [
        "#checking for outliers with boxplot POST 1999 with no outliers\n",
        "fig = plt.figure() \n",
        "fig.set_size_inches(20,4)\n",
        "sns.boxplot(x = post_dropouts_manual['weeks-on-board'],notch = True)\n",
        "plt.xlim(0, 40)\n",
        "plt.locator_params(axis='x', nbins=35)\n",
        "plt.show()"
      ],
      "metadata": {
        "colab": {
          "base_uri": "https://localhost:8080/",
          "height": 285
        },
        "id": "S0CLmnMRHF6D",
        "outputId": "f551898a-da28-4568-934f-26607e0363b2"
      },
      "execution_count": null,
      "outputs": [
        {
          "output_type": "display_data",
          "data": {
            "text/plain": [
              "<Figure size 1440x288 with 1 Axes>"
            ],
            "image/png": "[encoded data removed]"
          },
          "metadata": {}
        }
      ]
    },
    {
      "cell_type": "code",
      "source": [
        "stats.describe(pre_dropouts_manual['weeks-on-board'])\n"
      ],
      "metadata": {
        "colab": {
          "base_uri": "https://localhost:8080/"
        },
        "id": "oWbJt0JCIvpv",
        "outputId": "4a312b2e-fd6d-4f4e-d8bf-941ef8249a84"
      },
      "execution_count": null,
      "outputs": [
        {
          "output_type": "execute_result",
          "data": {
            "text/plain": [
              "DescribeResult(nobs=2699, minmax=(2, 25), mean=9.286031863653205, variance=31.37627257274267, skewness=0.6184785376986092, kurtosis=-0.4990663458788722)"
            ]
          },
          "metadata": {},
          "execution_count": 313
        }
      ]
    },
    {
      "cell_type": "code",
      "source": [
        "stats.describe(post_dropouts_manual['weeks-on-board'])"
      ],
      "metadata": {
        "colab": {
          "base_uri": "https://localhost:8080/"
        },
        "id": "tan9uJr5JFzA",
        "outputId": "2c38d77a-dea1-45cf-b0a4-39b3dc78771e"
      },
      "execution_count": null,
      "outputs": [
        {
          "output_type": "execute_result",
          "data": {
            "text/plain": [
              "DescribeResult(nobs=2571, minmax=(2, 31), mean=11.690392843251653, variance=49.14379482615888, skewness=0.6151662384992841, kurtosis=-0.32185489873620154)"
            ]
          },
          "metadata": {},
          "execution_count": 314
        }
      ]
    },
    {
      "cell_type": "markdown",
      "source": [
        "STATS DESCRIBE FOR \"PRE_DROPOUTS\" AND \"POST_dROPOUTS\" ARE MUCH MORE 'NORMAL' - NOT SKEWED, NO KURTOSIS"
      ],
      "metadata": {
        "id": "xTRC8w2CvpRP"
      }
    },
    {
      "cell_type": "code",
      "source": [
        "#histogram to see if this 'normaled' out any with nulls and outliers removed - IT DID NOT (so it's still a non-normal distro)\n",
        "sns.distplot(pre_dropouts_manual['weeks-on-board'])\n",
        "plt.title('Pre 1999 \"Weeks on Board\" without nulls or outliers-manual ')\n",
        "plt.show()"
      ],
      "metadata": {
        "colab": {
          "base_uri": "https://localhost:8080/",
          "height": 356
        },
        "id": "ya5UGxQ1KeHR",
        "outputId": "97da9a69-d935-4a85-873b-34351fbc4f48"
      },
      "execution_count": null,
      "outputs": [
        {
          "output_type": "stream",
          "name": "stderr",
          "text": [
            "/usr/local/lib/python3.7/dist-packages/seaborn/distributions.py:2619: FutureWarning: `distplot` is a deprecated function and will be removed in a future version. Please adapt your code to use either `displot` (a figure-level function with similar flexibility) or `histplot` (an axes-level function for histograms).\n",
            "  warnings.warn(msg, FutureWarning)\n"
          ]
        },
        {
          "output_type": "display_data",
          "data": {
            "text/plain": [
              "<Figure size 432x288 with 1 Axes>"
            ],
            "image/png": "[encoded data removed]"
          },
          "metadata": {}
        }
      ]
    },
    {
      "cell_type": "code",
      "source": [
        "#histogram to see if this 'normaled' out any with nulls and outliers removed - IT DID NOT (so it's still a non-normal distro)\n",
        "sns.distplot(post_dropouts_manual['weeks-on-board'])\n",
        "plt.title('Post 1999 \"Weeks on Board\" without nulls or outliers-manual ')\n",
        "plt.show()"
      ],
      "metadata": {
        "colab": {
          "base_uri": "https://localhost:8080/",
          "height": 356
        },
        "id": "lPT_UUw7KpDf",
        "outputId": "30824cb4-4d01-4d67-f122-2c17b1db4d2b"
      },
      "execution_count": null,
      "outputs": [
        {
          "output_type": "stream",
          "name": "stderr",
          "text": [
            "/usr/local/lib/python3.7/dist-packages/seaborn/distributions.py:2619: FutureWarning: `distplot` is a deprecated function and will be removed in a future version. Please adapt your code to use either `displot` (a figure-level function with similar flexibility) or `histplot` (an axes-level function for histograms).\n",
            "  warnings.warn(msg, FutureWarning)\n"
          ]
        },
        {
          "output_type": "display_data",
          "data": {
            "text/plain": [
              "<Figure size 432x288 with 1 Axes>"
            ],
            "image/png": "[encoded data removed]"
          },
          "metadata": {}
        }
      ]
    },
    {
      "cell_type": "code",
      "source": [
        "stats.shapiro(pre_dropouts_manual['weeks-on-board'])"
      ],
      "metadata": {
        "colab": {
          "base_uri": "https://localhost:8080/"
        },
        "id": "-6NldTjFJK1x",
        "outputId": "b30c4fc4-d0ec-4bfd-9829-baf1abc9861d"
      },
      "execution_count": null,
      "outputs": [
        {
          "output_type": "execute_result",
          "data": {
            "text/plain": [
              "ShapiroResult(statistic=0.9382724761962891, pvalue=4.0607611040893283e-32)"
            ]
          },
          "metadata": {},
          "execution_count": 317
        }
      ]
    },
    {
      "cell_type": "code",
      "source": [
        "stats.shapiro(post_dropouts_manual['weeks-on-board'])"
      ],
      "metadata": {
        "colab": {
          "base_uri": "https://localhost:8080/"
        },
        "id": "qGV42EwUJUha",
        "outputId": "a1219b61-ee05-4867-dd8f-d024bd80afb4"
      },
      "execution_count": null,
      "outputs": [
        {
          "output_type": "execute_result",
          "data": {
            "text/plain": [
              "ShapiroResult(statistic=0.9481145739555359, pvalue=3.218689354698401e-29)"
            ]
          },
          "metadata": {},
          "execution_count": 318
        }
      ]
    },
    {
      "cell_type": "markdown",
      "source": [
        "SHAPIRO INDICATES NOT NORMAL - LOW PVALUE (\"This is a statistical test used to infer whether a variable's distribution is significantly different than normal.\")"
      ],
      "metadata": {
        "id": "KFXLTzp8v6P0"
      }
    },
    {
      "cell_type": "markdown",
      "source": [
        "<hr>"
      ],
      "metadata": {
        "id": "AJW343j4KNHK"
      }
    },
    {
      "cell_type": "markdown",
      "source": [
        "# CHECKING FOR RELATION WITH PEARSONS\n",
        "\n",
        "need same sample size for Pearson. Will create 1500 line sample"
      ],
      "metadata": {
        "id": "MbiJ2sOJFbhI"
      }
    },
    {
      "cell_type": "code",
      "source": [
        "#pre99_pearson = pre99_3kr_dropped.iloc[0:1500] #these still have outliers"
      ],
      "metadata": {
        "id": "Y6t6-ryXFwI-"
      },
      "execution_count": null,
      "outputs": []
    },
    {
      "cell_type": "code",
      "source": [
        "#post99_pearson = post99_3kr_dropped.iloc[0:1500] #these still have outliers"
      ],
      "metadata": {
        "id": "JW909UMiF6Mz"
      },
      "execution_count": null,
      "outputs": []
    },
    {
      "cell_type": "code",
      "source": [
        "pre_dropouts_pearson = pre99_dropouts.iloc[0:1500]"
      ],
      "metadata": {
        "id": "4w1M5CbpsZrK"
      },
      "execution_count": null,
      "outputs": []
    },
    {
      "cell_type": "code",
      "source": [
        "post_dropouts_pearson = post99_dropouts.iloc[0:1500]"
      ],
      "metadata": {
        "id": "z_YJa5VbsZu2"
      },
      "execution_count": null,
      "outputs": []
    },
    {
      "cell_type": "code",
      "source": [
        "pre_dropouts_pearson.info(), post_dropouts_pearson.info()"
      ],
      "metadata": {
        "colab": {
          "base_uri": "https://localhost:8080/"
        },
        "id": "DKRWarjJGGZv",
        "outputId": "e1c9dd3e-4b29-467d-8efa-7bb06e6f12f1"
      },
      "execution_count": null,
      "outputs": [
        {
          "output_type": "stream",
          "name": "stdout",
          "text": [
            "<class 'pandas.core.frame.DataFrame'>\n",
            "Int64Index: 1500 entries, 219600 to 197845\n",
            "Data columns (total 7 columns):\n",
            " #   Column          Non-Null Count  Dtype  \n",
            "---  ------          --------------  -----  \n",
            " 0   date            1500 non-null   object \n",
            " 1   rank            1500 non-null   int64  \n",
            " 2   song            1500 non-null   object \n",
            " 3   artist          1500 non-null   object \n",
            " 4   last-week       1500 non-null   float64\n",
            " 5   peak-rank       1500 non-null   int64  \n",
            " 6   weeks-on-board  1500 non-null   int64  \n",
            "dtypes: float64(1), int64(3), object(3)\n",
            "memory usage: 93.8+ KB\n",
            "<class 'pandas.core.frame.DataFrame'>\n",
            "Int64Index: 1500 entries, 97953 to 110588\n",
            "Data columns (total 7 columns):\n",
            " #   Column          Non-Null Count  Dtype  \n",
            "---  ------          --------------  -----  \n",
            " 0   date            1500 non-null   object \n",
            " 1   rank            1500 non-null   int64  \n",
            " 2   song            1500 non-null   object \n",
            " 3   artist          1500 non-null   object \n",
            " 4   last-week       1500 non-null   float64\n",
            " 5   peak-rank       1500 non-null   int64  \n",
            " 6   weeks-on-board  1500 non-null   int64  \n",
            "dtypes: float64(1), int64(3), object(3)\n",
            "memory usage: 93.8+ KB\n"
          ]
        },
        {
          "output_type": "execute_result",
          "data": {
            "text/plain": [
              "(None, None)"
            ]
          },
          "metadata": {},
          "execution_count": 323
        }
      ]
    },
    {
      "cell_type": "code",
      "source": [
        "#pearson correlation\n",
        "corr, _ = pearsonr(pre_dropouts_pearson['weeks-on-board'], post_dropouts_pearson['weeks-on-board'])\n",
        "print('Pearsons correlation: %.3f' % corr)"
      ],
      "metadata": {
        "colab": {
          "base_uri": "https://localhost:8080/"
        },
        "id": "nZh-AK2yFfUw",
        "outputId": "66ed00dc-be4d-4b9b-d194-841544eb4687"
      },
      "execution_count": null,
      "outputs": [
        {
          "output_type": "stream",
          "name": "stdout",
          "text": [
            "Pearsons correlation: -0.018\n"
          ]
        }
      ]
    },
    {
      "cell_type": "markdown",
      "source": [
        "Pearson's correlation is close to 0.0 therefore indicating NO RELATIONSHIP between pre and post \"dropouts\" version which has no nulls and no outliers"
      ],
      "metadata": {
        "id": "kEmpMnd4Gf6M"
      }
    },
    {
      "cell_type": "markdown",
      "source": [
        "CALCULATING COHEN'S D FOR MORE RELATIONSHIP TESTING"
      ],
      "metadata": {
        "id": "oEUwQU2MHeiG"
      }
    },
    {
      "cell_type": "code",
      "source": [
        "n1, n2 = len(pre99_dropouts['weeks-on-board']), len(post99_dropouts['weeks-on-board'])"
      ],
      "metadata": {
        "id": "VB9domFydOLK"
      },
      "execution_count": null,
      "outputs": []
    },
    {
      "cell_type": "code",
      "source": [
        "print(n1,n2)"
      ],
      "metadata": {
        "colab": {
          "base_uri": "https://localhost:8080/"
        },
        "id": "LUJYK9TgdVT5",
        "outputId": "9cdcee6e-cbf4-4dda-cd7d-3e301bb6ce38"
      },
      "execution_count": null,
      "outputs": [
        {
          "output_type": "stream",
          "name": "stdout",
          "text": [
            "2717 2593\n"
          ]
        }
      ]
    },
    {
      "cell_type": "code",
      "source": [
        "\t# calculate the variance of the samples\n",
        "\ts1, s2 = var(pre99_dropouts['weeks-on-board'], ddof=1), var(post99_dropouts['weeks-on-board'], ddof=1)"
      ],
      "metadata": {
        "id": "QzDOFBohdXZe"
      },
      "execution_count": null,
      "outputs": []
    },
    {
      "cell_type": "code",
      "source": [
        "print(s1, s2)"
      ],
      "metadata": {
        "colab": {
          "base_uri": "https://localhost:8080/"
        },
        "id": "vWGgj9mRdrNa",
        "outputId": "6cd3d0a0-491f-41d2-ad33-bea32b4e3829"
      },
      "execution_count": null,
      "outputs": [
        {
          "output_type": "stream",
          "name": "stdout",
          "text": [
            "33.07043986940894 52.37310863054853\n"
          ]
        }
      ]
    },
    {
      "cell_type": "code",
      "source": [
        "def variance(data):\n",
        "#nummber of observations\n",
        "  n = len(data)\n",
        "     # Mean of the data\n",
        "  mean = sum(data) / n\n",
        "     # Square deviations\n",
        "  deviations = [(x - mean) ** 2 for x in data]\n",
        "    # Variance\n",
        "  variance = sum(deviations) / n\n",
        "  return variance\n",
        "\n",
        "\n",
        "pre99_var = variance(pre99_dropouts['weeks-on-board'])\n",
        "print(\"pre99_dropouts variance: \", pre99_var)"
      ],
      "metadata": {
        "colab": {
          "base_uri": "https://localhost:8080/"
        },
        "id": "mxFe5W8VdtPe",
        "outputId": "4ebaa722-ba2f-48c2-e354-f7ad6ffb8656"
      },
      "execution_count": null,
      "outputs": [
        {
          "output_type": "stream",
          "name": "stdout",
          "text": [
            "pre99_dropouts variance:  33.05826819481545\n"
          ]
        }
      ]
    },
    {
      "cell_type": "code",
      "source": [
        "def variance(data):\n",
        "#nummber of observations\n",
        "  n = len(data)\n",
        "     # Mean of the data\n",
        "  mean = sum(data) / n\n",
        "     # Square deviations\n",
        "  deviations = [(x - mean) ** 2 for x in data]\n",
        "    # Variance\n",
        "  variance = sum(deviations) / n\n",
        "  return variance\n",
        "\n",
        "\n",
        "post99_var = variance(post99_dropouts['weeks-on-board'])\n",
        "print(\"post99_dropouts variance: \", post99_var)"
      ],
      "metadata": {
        "colab": {
          "base_uri": "https://localhost:8080/"
        },
        "id": "v1c4pQFzeDBz",
        "outputId": "e940dab9-53f8-4554-e11a-a2c4e876b1b9"
      },
      "execution_count": null,
      "outputs": [
        {
          "output_type": "stream",
          "name": "stdout",
          "text": [
            "post99_dropouts variance:  52.35291074831543\n"
          ]
        }
      ]
    },
    {
      "cell_type": "code",
      "source": [
        "# calc Standard Deviation\n",
        "sd = sqrt(((n1-1) * pre99_var + (n2 - 1) * post99_var) / (n1 + n2 - 2))"
      ],
      "metadata": {
        "id": "rDryJfJQeNEA"
      },
      "execution_count": null,
      "outputs": []
    },
    {
      "cell_type": "code",
      "source": [
        "print(sd)"
      ],
      "metadata": {
        "colab": {
          "base_uri": "https://localhost:8080/"
        },
        "id": "Lvrw_czpeUYb",
        "outputId": "9fe8debc-007c-41c7-953e-1e53758f5e6c"
      },
      "execution_count": null,
      "outputs": [
        {
          "output_type": "stream",
          "name": "stdout",
          "text": [
            "6.517685075309362\n"
          ]
        }
      ]
    },
    {
      "cell_type": "code",
      "source": [
        "# calculate the means of the samples\n",
        "u1 = mean(pre99_dropouts['weeks-on-board'])"
      ],
      "metadata": {
        "id": "2YLZEEHFeVxj"
      },
      "execution_count": null,
      "outputs": []
    },
    {
      "cell_type": "code",
      "source": [
        "u2 = mean(post99_dropouts['weeks-on-board'])"
      ],
      "metadata": {
        "id": "HEND-fqNebRc"
      },
      "execution_count": null,
      "outputs": []
    },
    {
      "cell_type": "code",
      "source": [
        "print(u1, u2)"
      ],
      "metadata": {
        "colab": {
          "base_uri": "https://localhost:8080/"
        },
        "id": "DYYSZoAZekEr",
        "outputId": "eb00ed04-b635-4635-fdda-5b2b687523e6"
      },
      "execution_count": null,
      "outputs": [
        {
          "output_type": "stream",
          "name": "stdout",
          "text": [
            "9.398601398601398 11.866949479367529\n"
          ]
        }
      ]
    },
    {
      "cell_type": "code",
      "source": [
        "# calculate the effect size (aka Cohen's d)\n",
        "effect_size =  (u1 - u2) / sd"
      ],
      "metadata": {
        "id": "AjQkJfdZemHY"
      },
      "execution_count": null,
      "outputs": []
    },
    {
      "cell_type": "code",
      "source": [
        "print(effect_size)"
      ],
      "metadata": {
        "colab": {
          "base_uri": "https://localhost:8080/"
        },
        "id": "YUryzVEhev4Z",
        "outputId": "e42c22d8-165e-462c-ca94-472b06275183"
      },
      "execution_count": null,
      "outputs": [
        {
          "output_type": "stream",
          "name": "stdout",
          "text": [
            "-0.3787154568294281\n"
          ]
        }
      ]
    },
    {
      "cell_type": "markdown",
      "source": [
        "Small Effect Size: d=0.20 <br>\n",
        "Medium Effect Size: d=0.50 <br>\n",
        "Large Effect Size: d=0.80 <br>\n",
        "\n",
        "Effect Size is small. <br>\n",
        "Considering \"post99\" DID stay on charts longer, the mean would be larger, and the Effect Size is negative because a smaller number (pre99) is subtracting a larger number (post99).  In this case, we could reverse the math (post99 minus pre99 for a positive number) or we could just take the absolute value of 0.3 and make our assumption based on 0.3 being relatively small for effect size. <br><br>\n",
        "In addition to Pearson's correlation - this small effect size indicates also that there is no relationship between our two variables \"pre_dropouts 'weeks-on-board' \" and \"post_dropouts 'weeks-on-board' \""
      ],
      "metadata": {
        "id": "qVq4EztFe0I1"
      }
    },
    {
      "cell_type": "markdown",
      "source": [
        "# DISTRIBUTION TESTING FOR NORMALITY\n",
        "\n",
        "I am going to stick with my random pre99_dropouts and post99_dropouts varibales to account for bias, sample size, and no nulls, and no outliers."
      ],
      "metadata": {
        "id": "xl5QjMtfJh5T"
      }
    },
    {
      "cell_type": "markdown",
      "source": [
        "**Skew and Kurtosis interpretations**"
      ],
      "metadata": {
        "id": "hI0YPAl2SLhb"
      }
    },
    {
      "cell_type": "code",
      "source": [
        "# WRITING A FUNCTION TO PERFORM REPETITIVE stats.describe()\n",
        "def describe(pre, post):\n",
        "  pre_stats = stats.describe(pre)\n",
        "  post_stats = stats.describe(post)\n",
        "  return (f\"preStats: {pre_stats}.\",f\"PostStats: {post_stats}\")\n",
        "\n",
        "describe (pre99_dropouts['weeks-on-board'], post99_dropouts['weeks-on-board'])"
      ],
      "metadata": {
        "colab": {
          "base_uri": "https://localhost:8080/"
        },
        "id": "__zUKzWkmb85",
        "outputId": "0785d76f-75a8-413a-c630-5b3cc9faeb46"
      },
      "execution_count": null,
      "outputs": [
        {
          "output_type": "execute_result",
          "data": {
            "text/plain": [
              "('preStats: DescribeResult(nobs=2717, minmax=(2, 27), mean=9.398601398601398, variance=33.07043986940894, skewness=0.6803864467314997, kurtosis=-0.3117797132489315).',\n",
              " 'PostStats: DescribeResult(nobs=2593, minmax=(2, 33), mean=11.866949479367529, variance=52.37310863054853, skewness=0.6833770976978091, kurtosis=-0.14973670319957044)')"
            ]
          },
          "metadata": {},
          "execution_count": 338
        }
      ]
    },
    {
      "cell_type": "markdown",
      "source": [
        "**with outliers stripped ==> presents more normal**\n",
        "\n",
        "Pre99 SKEW and KURTOSIS: <br>\n",
        "skew = ~ 0.6x ==> less than 1  ==> looks normal (moderate skew at btw 0.5 and 1) <br>\n",
        "kurtosis = ~ -0.3x ==> less than 3 ==>  looks normal <br>"
      ],
      "metadata": {
        "id": "pNOUIfjhLcbz"
      }
    },
    {
      "cell_type": "markdown",
      "source": [
        "Post99 SKEW and KURTOSIS: <br>\n",
        "skew = ~ 0.6x ==> less than 1  ==> looks normal (moderate skew at btw 0.5 and 1) <br>\n",
        "kurtosis = ~ -0.3x ==> less than 3 ==>  looks normal"
      ],
      "metadata": {
        "id": "lbwNQPhiQFpo"
      }
    },
    {
      "cell_type": "markdown",
      "source": [
        "<hr>\n",
        "\n",
        "**with outliers included (they are still in there) = skew and kurtosis are \"not normal\"**"
      ],
      "metadata": {
        "id": "e9HFgp-Pfh3E"
      }
    },
    {
      "cell_type": "code",
      "source": [
        "stats.describe(pre99_3kr_dropped['weeks-on-board']) #nulls dropped, outliers still in"
      ],
      "metadata": {
        "colab": {
          "base_uri": "https://localhost:8080/"
        },
        "outputId": "82a8519d-3a04-422d-8bfe-91754232c014",
        "id": "1PhPDsyAOifB"
      },
      "execution_count": null,
      "outputs": [
        {
          "output_type": "execute_result",
          "data": {
            "text/plain": [
              "DescribeResult(nobs=2755, minmax=(2, 46), mean=9.721960072595282, variance=40.39543261278431, skewness=1.1250042449397293, kurtosis=1.7899456873082835)"
            ]
          },
          "metadata": {},
          "execution_count": 339
        }
      ]
    },
    {
      "cell_type": "code",
      "source": [
        "stats.describe(post99_3kr_dropped['weeks-on-board'])  #nulls dropped, outliers still in"
      ],
      "metadata": {
        "colab": {
          "base_uri": "https://localhost:8080/"
        },
        "outputId": "861ce4c7-61aa-463e-8c5e-c967c647ef85",
        "id": "ntaOZgoYOifB"
      },
      "execution_count": null,
      "outputs": [
        {
          "output_type": "execute_result",
          "data": {
            "text/plain": [
              "DescribeResult(nobs=2701, minmax=(2, 67), mean=13.03850425768234, variance=84.95110946563001, skewness=1.4328862270834106, kurtosis=2.860606925916726)"
            ]
          },
          "metadata": {},
          "execution_count": 340
        }
      ]
    },
    {
      "cell_type": "code",
      "source": [
        "#PRE 99 WITH NULLS AND OUTLIERS DROPPED HISTOGRAM\n",
        "#histogram to see if this 'normaled' out any with nulls and outliers removed - IT DID NOT (so it's still a non-normal distro)\n",
        "sns.distplot(pre99_dropouts['weeks-on-board'])\n",
        "plt.title('Pre 1999 \"Weeks on Board\" without nulls or outliers ')\n",
        "plt.show()"
      ],
      "metadata": {
        "colab": {
          "base_uri": "https://localhost:8080/",
          "height": 356
        },
        "id": "sLBrriOpvvYT",
        "outputId": "b33b9494-43b0-4693-8033-ca4aa7bc5e1b"
      },
      "execution_count": null,
      "outputs": [
        {
          "output_type": "stream",
          "name": "stderr",
          "text": [
            "/usr/local/lib/python3.7/dist-packages/seaborn/distributions.py:2619: FutureWarning: `distplot` is a deprecated function and will be removed in a future version. Please adapt your code to use either `displot` (a figure-level function with similar flexibility) or `histplot` (an axes-level function for histograms).\n",
            "  warnings.warn(msg, FutureWarning)\n"
          ]
        },
        {
          "output_type": "display_data",
          "data": {
            "text/plain": [
              "<Figure size 432x288 with 1 Axes>"
            ],
            "image/png": "[encoded data removed]"
          },
          "metadata": {}
        }
      ]
    },
    {
      "cell_type": "code",
      "source": [
        "#POST 99 WITH NULLS AND OUTLIERS DROPPED HISTOGRAM\n",
        "#histogram to see if this 'normaled' out any with nulls and outliers removed - IT DID NOT (so it's still a non-normal distro)\n",
        "sns.distplot(post99_dropouts['weeks-on-board'])\n",
        "plt.title('Post 1999 \"Weeks on Board\" without nulls or outliers ')\n",
        "plt.show()"
      ],
      "metadata": {
        "colab": {
          "base_uri": "https://localhost:8080/",
          "height": 356
        },
        "id": "Tdd8hGcxwHC5",
        "outputId": "506e01fa-25a4-4e3f-f1cb-80db8657b2a5"
      },
      "execution_count": null,
      "outputs": [
        {
          "output_type": "stream",
          "name": "stderr",
          "text": [
            "/usr/local/lib/python3.7/dist-packages/seaborn/distributions.py:2619: FutureWarning: `distplot` is a deprecated function and will be removed in a future version. Please adapt your code to use either `displot` (a figure-level function with similar flexibility) or `histplot` (an axes-level function for histograms).\n",
            "  warnings.warn(msg, FutureWarning)\n"
          ]
        },
        {
          "output_type": "display_data",
          "data": {
            "text/plain": [
              "<Figure size 432x288 with 1 Axes>"
            ],
            "image/png": "[encoded data removed]"
          },
          "metadata": {}
        }
      ]
    },
    {
      "cell_type": "markdown",
      "source": [
        "**Shapiro interpretations**\n"
      ],
      "metadata": {
        "id": "xXJBEFj2Qc_f"
      }
    },
    {
      "cell_type": "code",
      "source": [
        "# WRITING A FUNCTION TO PERFORM REPETITIVE stats.shapiro()\n",
        "def shapwilk(pre, post):\n",
        "  pre_shap = stats.shapiro(pre)\n",
        "  post_shap = stats.shapiro(post)\n",
        "  return (f\"pre_Shapiro: {pre_shap}.\",f\"post_Shapiro: {post_shap}\")\n",
        "\n",
        "shapwilk (pre99_dropouts['weeks-on-board'], post99_dropouts['weeks-on-board'])"
      ],
      "metadata": {
        "colab": {
          "base_uri": "https://localhost:8080/"
        },
        "id": "IrU3NwuKmvNO",
        "outputId": "0632a3be-7cc3-4560-8952-833184ab0def"
      },
      "execution_count": null,
      "outputs": [
        {
          "output_type": "execute_result",
          "data": {
            "text/plain": [
              "('pre_Shapiro: ShapiroResult(statistic=0.9367316961288452, pvalue=1.5425027889322065e-32).',\n",
              " 'post_Shapiro: ShapiroResult(statistic=0.9447929859161377, pvalue=4.0655877074036916e-30)')"
            ]
          },
          "metadata": {},
          "execution_count": 343
        }
      ]
    },
    {
      "cell_type": "markdown",
      "source": [
        "rule: p-value > 0.05, W stat close to 1  = normal distribution<Br>\n",
        "\"This is a statistical test used to infer whether a variable's distribution is significantly different than normal.\"\n",
        "\n",
        "**pre99: 0.93 close to 1, p-value = way less than 0.05 ==> NOT NORMAL<BR>\n",
        "post99: 0.94 close to 1, p-value = way less than 0.05 ==> NOT NORMAL**"
      ],
      "metadata": {
        "id": "1B5oWZoERZeA"
      }
    },
    {
      "cell_type": "markdown",
      "source": [
        "**Histrogram Plots**"
      ],
      "metadata": {
        "id": "RGoUfprKSarH"
      }
    },
    {
      "cell_type": "code",
      "source": [
        "plt.style.use('dark_background')\n",
        "fig = plt.figure() \n",
        "fig.set_size_inches(15,10)\n",
        "plt.hist(post99_dropouts['weeks-on-board'], alpha = .75, color = \"magenta\")\n",
        "plt.hist(pre99_dropouts['weeks-on-board'], alpha = .85, color = \"cyan\")\n",
        "plt.legend(['After 1999','1976-1998'])\n",
        "plt.title(\"SONGS PER WEEKS ON CHART - RANDOM SAMPLE WITH NO NULLS OR OUTLIERS\")\n",
        "plt.xticks(range(0,50,5))\n",
        "plt.yticks(range(0,800,100))\n",
        "plt.xlabel(\"Weeks On Board\")\n",
        "plt.ylabel(\"Quantity of Songs\")\n",
        "plt.show()"
      ],
      "metadata": {
        "colab": {
          "base_uri": "https://localhost:8080/",
          "height": 627
        },
        "id": "k9kocdB-R-SX",
        "outputId": "31029cf7-a9e7-4dce-df8e-2b128717a54e"
      },
      "execution_count": null,
      "outputs": [
        {
          "output_type": "display_data",
          "data": {
            "text/plain": [
              "<Figure size 1080x720 with 1 Axes>"
            ],
            "image/png": "[encoded data removed]"
          },
          "metadata": {}
        }
      ]
    },
    {
      "cell_type": "markdown",
      "source": [
        "NOT A NORMAL BELL CURVE  - THIS IS A NON-NORMAL DISTRIBUTION FROM THIS PLOT (in addition to Shapiro-Wilk results)\n",
        "\n",
        "\n"
      ],
      "metadata": {
        "id": "ucJT4BtxTH4e"
      }
    },
    {
      "cell_type": "code",
      "source": [
        "#individual histogram plots\n",
        "pre99_dropouts.hist(['weeks-on-board'])"
      ],
      "metadata": {
        "colab": {
          "base_uri": "https://localhost:8080/",
          "height": 319
        },
        "id": "LJQnMFbiTSFf",
        "outputId": "633956f0-ae39-4393-aa4a-cdeff31b4935"
      },
      "execution_count": null,
      "outputs": [
        {
          "output_type": "execute_result",
          "data": {
            "text/plain": [
              "array([[<matplotlib.axes._subplots.AxesSubplot object at 0x7f5fe4abccd0>]],\n",
              "      dtype=object)"
            ]
          },
          "metadata": {},
          "execution_count": 345
        },
        {
          "output_type": "display_data",
          "data": {
            "text/plain": [
              "<Figure size 432x288 with 1 Axes>"
            ],
            "image/png": "[encoded data removed]"
          },
          "metadata": {}
        }
      ]
    },
    {
      "cell_type": "code",
      "source": [
        "#individual histogram plots\n",
        "post99_dropouts.hist(['weeks-on-board'])"
      ],
      "metadata": {
        "colab": {
          "base_uri": "https://localhost:8080/",
          "height": 319
        },
        "id": "DU4Ya9L_TeTx",
        "outputId": "b4742025-3f18-411c-a909-9a8e11f000b1"
      },
      "execution_count": null,
      "outputs": [
        {
          "output_type": "execute_result",
          "data": {
            "text/plain": [
              "array([[<matplotlib.axes._subplots.AxesSubplot object at 0x7f5fe3fb7710>]],\n",
              "      dtype=object)"
            ]
          },
          "metadata": {},
          "execution_count": 346
        },
        {
          "output_type": "display_data",
          "data": {
            "text/plain": [
              "<Figure size 432x288 with 1 Axes>"
            ],
            "image/png": "[encoded data removed]"
          },
          "metadata": {}
        }
      ]
    },
    {
      "cell_type": "markdown",
      "source": [
        "AGAIN, NOT NORMAL BELL CURVE DISTRIBUTIONS"
      ],
      "metadata": {
        "id": "LauRr_KTTtq3"
      }
    },
    {
      "cell_type": "markdown",
      "source": [
        "**QQ interpretations**"
      ],
      "metadata": {
        "id": "uatyaEArTy9o"
      }
    },
    {
      "cell_type": "code",
      "source": [
        "# plotting QQ on pre99_dropouts\n",
        "fig = sm.qqplot(pre99_dropouts['weeks-on-board'], line='45')\n",
        "plt.title(\"QQ PLOT FOR PRE-1999 - RANDOM SAMPL, NO NULLS OR OUTLIERS\")\n",
        "plt.show()"
      ],
      "metadata": {
        "colab": {
          "base_uri": "https://localhost:8080/",
          "height": 301
        },
        "id": "zCBz337CTwL7",
        "outputId": "6980fe0f-daf6-4101-9e3b-0f6c1389c5d9"
      },
      "execution_count": null,
      "outputs": [
        {
          "output_type": "display_data",
          "data": {
            "text/plain": [
              "<Figure size 432x288 with 1 Axes>"
            ],
            "image/png": "[encoded data removed]"
          },
          "metadata": {}
        }
      ]
    },
    {
      "cell_type": "code",
      "source": [
        "# plotting QQ on post99_dropouts\n",
        "fig = sm.qqplot(post99_dropouts['weeks-on-board'], line='45')\n",
        "plt.title(\"QQ PLOT FOR POST-1999 - RANDOM SAMPLE, NO NULLS OR OUTLIERS\")\n",
        "plt.show()"
      ],
      "metadata": {
        "colab": {
          "base_uri": "https://localhost:8080/",
          "height": 301
        },
        "id": "ETUO0VtmVfsR",
        "outputId": "d31051e1-125e-48ec-b005-9eaadce77af5"
      },
      "execution_count": null,
      "outputs": [
        {
          "output_type": "display_data",
          "data": {
            "text/plain": [
              "<Figure size 432x288 with 1 Axes>"
            ],
            "image/png": "[encoded data removed]"
          },
          "metadata": {}
        }
      ]
    },
    {
      "cell_type": "markdown",
      "source": [
        "THEY DO  NOT LOOK NORMAL AS THEY DO NOT FOLLOW THE 45 LINE\n"
      ],
      "metadata": {
        "id": "UEoAJjjbYGPB"
      }
    },
    {
      "cell_type": "markdown",
      "source": [
        "# I DETERMINE THESE 2 DATAFRAMES ARE NOT NORMALLY DISTRIBUTED\n",
        "\n",
        "based on stats.describe (for included outliers), Shapiro- Wilk results, histogram plots, and QQ plots - I will implement Kruskal-Wallis to test with"
      ],
      "metadata": {
        "id": "ufaZC2CBYb-m"
      }
    },
    {
      "cell_type": "code",
      "source": [
        "stats.kruskal(pre99_dropouts['weeks-on-board'], post99_dropouts['weeks-on-board'])"
      ],
      "metadata": {
        "colab": {
          "base_uri": "https://localhost:8080/"
        },
        "id": "coLn9ZMvynys",
        "outputId": "41c5fdf9-f774-4d16-91d3-dc3d54adb503"
      },
      "execution_count": null,
      "outputs": [
        {
          "output_type": "execute_result",
          "data": {
            "text/plain": [
              "KruskalResult(statistic=141.73247728230132, pvalue=1.1126973388846684e-32)"
            ]
          },
          "metadata": {},
          "execution_count": 349
        }
      ]
    },
    {
      "cell_type": "markdown",
      "source": [
        "rule: \"p-value < 0.05 = you can reject the null that all variables have the same distribution/ \"are the same\".\n",
        "\n",
        "**CONCLUSION: WE CAN REJECT THE NULL THAT THERE WAS \"NO CHANGE IN CHARTING TIME (WEEKS-ON-BOARD) IN THE DIGITAL AGE FROM 1999 FORWARD\".** <BR><BR>\n",
        "\n",
        "Reject this null hypothesis: Songs charted from 1976-1998 did not have significantly different chart times than songs released after 1999.\n",
        "\n",
        "The low p-value indicates signficant difference btw \"pre99_dropouts for weeks on board\" and \"post99_dropouts for weeks on board\"."
      ],
      "metadata": {
        "id": "nqIQ663zjPro"
      }
    },
    {
      "cell_type": "markdown",
      "source": [
        "# CONFIDENCE INTERVAL CALCULATION"
      ],
      "metadata": {
        "id": "mLIa2HsIlyzl"
      }
    },
    {
      "cell_type": "code",
      "source": [
        "#confidence interval calculation\n",
        "def get_95_ci(array_1, array_2):\n",
        "    sample_1_n = array_1.shape[0] # 1976to1998\n",
        "    sample_2_n = array_2.shape[0] # after99\n",
        "    sample_1_mean = array_1.mean()\n",
        "    sample_2_mean = array_2.mean()\n",
        "    sample_1_var = array_1.var() #squared std deviation\n",
        "    sample_2_var = array_2.var()\n",
        "    mean_difference = sample_2_mean - sample_1_mean\n",
        "    std_err_difference = math.sqrt((sample_1_var/sample_1_n)+(sample_2_var/sample_2_n))\n",
        "    margin_of_error = 1.96 * std_err_difference\n",
        "    ci_lower = mean_difference - margin_of_error\n",
        "    ci_upper = mean_difference + margin_of_error\n",
        "    print(\"ci_upper = \", ci_upper)\n",
        "    print(\"ci_lower = \", ci_lower)\n",
        "    return(\"The difference in means at the 95% confidence interval (two-tail) is between \"+str(ci_lower)+\" and \"+str(ci_upper)+\".\")\n",
        "\n",
        "get_95_ci(pre99_dropouts['weeks-on-board'],  post99_dropouts['weeks-on-board'])"
      ],
      "metadata": {
        "colab": {
          "base_uri": "https://localhost:8080/",
          "height": 70
        },
        "id": "xvKOBRewjU2a",
        "outputId": "d6b58a59-613d-4e64-a943-da025b156ed6"
      },
      "execution_count": null,
      "outputs": [
        {
          "output_type": "stream",
          "name": "stdout",
          "text": [
            "ci_upper =  2.8209822956455803\n",
            "ci_lower =  2.1157138658866805\n"
          ]
        },
        {
          "output_type": "execute_result",
          "data": {
            "text/plain": [
              "'The difference in means at the 95% confidence interval (two-tail) is between 2.1157138658866805 and 2.8209822956455803.'"
            ],
            "application/vnd.google.colaboratory.intrinsic+json": {
              "type": "string"
            }
          },
          "metadata": {},
          "execution_count": 350
        }
      ]
    },
    {
      "cell_type": "markdown",
      "source": [
        "WITH 95% CONFIDENCE - CAN SAY THAT \"POST-\n",
        "1999\" SONGS STAYED ON CHARTS ON AVERAGE BETWEEN 1.99 AND 2.67 WEEKS LONGER THAN \"PRE-1999\" SONGS\n",
        "\n",
        "1.7 vs 2.38<br>\n",
        "1.9 and 3.67<br>\n",
        "1.79 and 2.47<br>\n",
        "2.01 and 2.7<br>\n",
        "1.69 and 2.38 <br>\n",
        "1.58 and 2.25<br>\n",
        "1.68 and 2.34 <br>\n",
        "1.71 and 2.41 <br>\n",
        "1.77 and 2.43<br>\n",
        "1.99 and 2.67<br>\n",
        "2.11 and 2.78<br>"
      ],
      "metadata": {
        "id": "aIH6scUumPaN"
      }
    },
    {
      "cell_type": "markdown",
      "source": [
        "to check:<BR>\n",
        "after1999 mean: 12.7 weeks <br>\n",
        "1976to1998 mean: 9.6 weeks\n",
        "\n",
        "12.7 - 9.6 = 3.1\n",
        "\n",
        "CI: 2.69 + 3.5 / 2 = 3.095"
      ],
      "metadata": {
        "id": "HqZpD0-Rmbij"
      }
    },
    {
      "cell_type": "code",
      "source": [
        "#execute CI function and return an average, not just a range. \n",
        "def ci_averages(array_1, array_2):\n",
        "      sample_1_n = array_1.shape[0] # 1976to1998\n",
        "      sample_2_n = array_2.shape[0] # after99\n",
        "      sample_1_mean = array_1.mean()\n",
        "      sample_2_mean = array_2.mean()\n",
        "      sample_1_var = array_1.var() #squared std deviation\n",
        "      sample_2_var = array_2.var()\n",
        "      mean_difference = sample_2_mean - sample_1_mean\n",
        "      std_err_difference = math.sqrt((sample_1_var/sample_1_n)+(sample_2_var/sample_2_n))\n",
        "      margin_of_error = 1.96 * std_err_difference\n",
        "      ci_lower = mean_difference - margin_of_error\n",
        "      ci_upper = mean_difference + margin_of_error\n",
        "      #print(ci_upper)\n",
        "      #print(ci_lower)\n",
        "      avg = (ci_upper+ci_lower)/2\n",
        "      return (\"The average weeks that Post99 charts longer than Pre99 is: \", avg)\n",
        "\n",
        "ci_averages(pre99_dropouts['weeks-on-board'],  post99_dropouts['weeks-on-board'])"
      ],
      "metadata": {
        "colab": {
          "base_uri": "https://localhost:8080/"
        },
        "id": "MhYTrGrp8OPF",
        "outputId": "909774a5-a92f-4a68-f5e7-8435904b061b"
      },
      "execution_count": null,
      "outputs": [
        {
          "output_type": "execute_result",
          "data": {
            "text/plain": [
              "('The average weeks that Post99 charts longer than Pre99 is: ',\n",
              " 2.4683480807661304)"
            ]
          },
          "metadata": {},
          "execution_count": 351
        }
      ]
    },
    {
      "cell_type": "markdown",
      "source": [
        "# RECOMMENDATIONS\n"
      ],
      "metadata": {
        "id": "p3JHDICdr7hw"
      }
    },
    {
      "cell_type": "markdown",
      "source": [
        "It's clear that the onset of digital file sharing and streaming services in 1999 affected how long songs chart. With this knowledge, stakeholders such as artists, record labels, streaming services, broadcast radio, and satellite radio should consider how they can **most take advantage of digital music content delivery.**\n",
        "\n",
        "**Why Digital?**<br>Digital music content delivery in the forms of streaming services (Pandora, Spotify, Amazon music, iTunes, YouTube, etc.) and file sharing/purchases all offer more equitable access and quantifiable exposure and engagement measurements.<br><br>Equitable access means music on-demand, mobile device in hand (mp3 player, to iPod, to cell phone), wifi proliferation, digital connectivy expansion (increase broadband and high capacity infrastructure), and digital payment expansion (CC on file, Apple Pay, etc). Listeners are no longer tied to a radio station broadcast or a record store sale."
      ],
      "metadata": {
        "id": "SDo2zn3F9h4g"
      }
    },
    {
      "cell_type": "markdown",
      "source": [
        "Quantifiable exposure and engagement measurement:<br>\n",
        "Every digital track could return measurable data such as:\n",
        "\n",
        "* user ID (subscriber ID, email, IP, CC info)\n",
        "* user system ID (windows, mac, etc.)\n",
        "* track name\n",
        "* track artist\n",
        "* time listened\n",
        "* user engagement (repeats, FFWD, RW, skip, pause, like, dislike)"
      ],
      "metadata": {
        "id": "RCRBWO6A-UP1"
      }
    },
    {
      "cell_type": "markdown",
      "source": [
        "Since we know now that songs released after 1999 do tend to chart longer than songs released before 1999, stakeholders such as:\n",
        "* record labels\n",
        "* artists\n",
        "* streaming service providers (Spotify, Pandora, Amazon Music, TikTok, etc.)\n",
        "* traditional broadcast radio\n",
        "* satellite radio stations\n",
        "\n",
        "can use this information to make data-informed decisions regarding content distribution, revenue generation, marketing, and audience development. "
      ],
      "metadata": {
        "id": "gFlGjSsusKUG"
      }
    },
    {
      "cell_type": "markdown",
      "source": [
        "I recommend that stakeholders consider song chart time (\"weeks-on-board\") in order to help determine things like:\n",
        "\n",
        "*   **concert tour dates** - lengthy-charted songs (especially multiple lengthy charted songs from the same artist) will more likely generate more ticket sales due to more exposure and engagement (REV)<br>\n",
        "* **radio clock programming**- long-charted popular hits play an important role in the radio clock (where it is determined when to play what kind of songs during certain hours of the day). It is this programming that builds and maintains audience, which leads to advertising sales based on audience exposure for traditional broadcast radio.(AD)<br>\n",
        "*   **artists** - artists should consider lengthy-charted hits as to help determine audience/fan preference and whether the artist/band should continue releasing hits in the same style and genre, or, when it's time to perhaps release a new, more contemporary 'sound' for this artist/band. Bands that have been successful in the past of releasing a \"new sound\" after massive hits in one style are U2, Smashing Pumpkins, Sugar Ray, and The Red Hot Chili Peppers. (CD)<br>\n",
        "* **album/song releases** - similar to artists style as mentioned above, monitoring song charting length can help record labels and artists determine when to release new tracks(CD)<BR>\n",
        "* **advertising sales/subscribers** - lengthy-charted songs will play an important role in keeping audiences engaged and active, in both traditional broadcast radio and streaming services. Audiences tune in to hear and download their favorite songs as well has hear new music. But it's the familiarity with the old that keeps a listener engaged and coming back. And it's this \"audience stickiness\" that advertisers want to reach and pay money for.(M, AD, REV)\n",
        "* **audience development** - lengthy-charted songs contribute to audience development in terms of radio clock programming, advertising sales, and even niche programming when tailoring a station's format or streaming services channels to long-charted popular hits (Sirius XM Satellite radio has niche channels like all hits from Pearl Jam, The Grateful Dead, and Dave Matthews Band). The goal of audience dvelopment is to build a relationship with listeners, gain new listeners, and develop loyal listeners. Lengthy-charted songs can help ensure that listeners find joy, comfort, and familiarity in the music and keep coming back for more. (AD)\n",
        "* **sales:** - Continual declining sales of physical music media and digital music media since 2003 --> Don't invest in production or sales of physical media, or digital file purchases. Instead, consider investing in marketing/advertising on streaming media.<br>\n",
        "\n",
        "sales data sources: <br>\n",
        " https://www.statista.com/statistics/239276/growth-of-the-global-music-revenue-by-type/#:~:text=Digital%20music%20streaming%20has%20rapidly,over%20half%20of%20all%20revenue\n",
        "\n",
        " https://www.toptal.com/finance/market-research-analysts/state-of-music-industry\n",
        "\n",
        " https://soundcharts.com/blog/us-music-market-overview#streaming-is-king\n",
        "\n",
        " RIAA data: https://www.riaa.com/u-s-sales-database/\n",
        "\n",
        " https://www.engadget.com/riaa-music-revenue-report-2020-204907874.html\n",
        "\n",
        "RIAA end of year 2020 report:\n",
        " https://www.riaa.com/wp-content/uploads/2021/02/2020-Year-End-Music-Industry-Revenue-Report.pdf\n",
        "\n",
        " RIAA end of year 2021: https://www.riaa.com/wp-content/uploads/2022/03/2021-Year-End-Music-Industry-Revenue-Report.pdf\n",
        "\n",
        "\n",
        "digital media changes how songs break: https://www.wired.com/2017/05/secret-hit-making-power-spotify-playlist/\n",
        "\n",
        "\n"
      ],
      "metadata": {
        "id": "Px7xXNqNt-9W"
      }
    },
    {
      "cell_type": "markdown",
      "source": [
        "**FURTHER RESEARCH SUGGESTIONS:**"
      ],
      "metadata": {
        "id": "REfkJhPAWywy"
      }
    },
    {
      "cell_type": "markdown",
      "source": [
        "My next suggestions would be to examine the data with predictive modelling to determine if there are patterns or correlations between previous lengths of time on the charts and future potential hit songs. Can current long-charting songs predict an estimated time-on-chart of future hits? "
      ],
      "metadata": {
        "id": "_oo6NQtezQLd"
      }
    },
    {
      "cell_type": "markdown",
      "source": [
        "I would also like to dig deeper into what happens around a breakpoint of weeks 20-22 for both pre-1999 and post-1999. This period seems to be a turning point for both data sets and I'd like to see if there's something in the data that can help define this, or if this an external influence (outside the data)."
      ],
      "metadata": {
        "id": "adRUlFB_5sgO"
      }
    },
    {
      "cell_type": "markdown",
      "source": [
        "I would also explore the music styles of pre-1999 and post-1999 to see if genres (especially new genres) influenced time-on-charts. Did songs/artists with more hip-hop sound, or more electronic sound, produce longer-charting hits? Was there a pattern or correlation in the style of music (based on artist) that play a role in time-on-charts?\n"
      ],
      "metadata": {
        "id": "yqTHqeycAf4X"
      }
    },
    {
      "cell_type": "code",
      "source": [],
      "metadata": {
        "id": "8RASJ3SQW6Dg"
      },
      "execution_count": null,
      "outputs": []
    }
  ]
}